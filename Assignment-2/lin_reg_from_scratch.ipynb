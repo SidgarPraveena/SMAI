{
 "cells": [
  {
   "cell_type": "code",
   "execution_count": 1,
   "metadata": {},
   "outputs": [],
   "source": [
    "import pandas as pd\n",
    "import numpy as np\n",
    "import matplotlib.pyplot as plt\n",
    "from sklearn.model_selection import train_test_split\n",
    "from sklearn.preprocessing import MinMaxScaler\n",
    "from sklearn.metrics import r2_score\n",
    "from sklearn.metrics import mean_squared_error\n",
    "from sklearn.metrics import mean_absolute_error"
   ]
  },
  {
   "cell_type": "code",
   "execution_count": 2,
   "metadata": {},
   "outputs": [],
   "source": [
    "df=pd.read_csv('./Datasets/Question-4/weather.csv')\n",
    "#df_train,df_test=train_test_split(np.array(df), test_size=0.2)"
   ]
  },
  {
   "cell_type": "code",
   "execution_count": 3,
   "metadata": {},
   "outputs": [
    {
     "data": {
      "text/html": [
       "<div>\n",
       "<style scoped>\n",
       "    .dataframe tbody tr th:only-of-type {\n",
       "        vertical-align: middle;\n",
       "    }\n",
       "\n",
       "    .dataframe tbody tr th {\n",
       "        vertical-align: top;\n",
       "    }\n",
       "\n",
       "    .dataframe thead th {\n",
       "        text-align: right;\n",
       "    }\n",
       "</style>\n",
       "<table border=\"1\" class=\"dataframe\">\n",
       "  <thead>\n",
       "    <tr style=\"text-align: right;\">\n",
       "      <th></th>\n",
       "      <th>Formatted Date</th>\n",
       "      <th>Summary</th>\n",
       "      <th>Precip Type</th>\n",
       "      <th>Temperature (C)</th>\n",
       "      <th>Apparent Temperature (C)</th>\n",
       "      <th>Humidity</th>\n",
       "      <th>Wind Speed (km/h)</th>\n",
       "      <th>Wind Bearing (degrees)</th>\n",
       "      <th>Visibility (km)</th>\n",
       "      <th>Pressure (millibars)</th>\n",
       "      <th>Daily Summary</th>\n",
       "    </tr>\n",
       "  </thead>\n",
       "  <tbody>\n",
       "    <tr>\n",
       "      <td>0</td>\n",
       "      <td>2006-04-01 00:00:00.000 +0200</td>\n",
       "      <td>Partly Cloudy</td>\n",
       "      <td>rain</td>\n",
       "      <td>9.472222</td>\n",
       "      <td>7.388889</td>\n",
       "      <td>0.89</td>\n",
       "      <td>14.1197</td>\n",
       "      <td>251</td>\n",
       "      <td>15.8263</td>\n",
       "      <td>1015.13</td>\n",
       "      <td>Partly cloudy throughout the day.</td>\n",
       "    </tr>\n",
       "    <tr>\n",
       "      <td>1</td>\n",
       "      <td>2006-04-01 01:00:00.000 +0200</td>\n",
       "      <td>Partly Cloudy</td>\n",
       "      <td>rain</td>\n",
       "      <td>9.355556</td>\n",
       "      <td>7.227778</td>\n",
       "      <td>0.86</td>\n",
       "      <td>14.2646</td>\n",
       "      <td>259</td>\n",
       "      <td>15.8263</td>\n",
       "      <td>1015.63</td>\n",
       "      <td>Partly cloudy throughout the day.</td>\n",
       "    </tr>\n",
       "    <tr>\n",
       "      <td>2</td>\n",
       "      <td>2006-04-01 02:00:00.000 +0200</td>\n",
       "      <td>Mostly Cloudy</td>\n",
       "      <td>rain</td>\n",
       "      <td>9.377778</td>\n",
       "      <td>9.377778</td>\n",
       "      <td>0.89</td>\n",
       "      <td>3.9284</td>\n",
       "      <td>204</td>\n",
       "      <td>14.9569</td>\n",
       "      <td>1015.94</td>\n",
       "      <td>Partly cloudy throughout the day.</td>\n",
       "    </tr>\n",
       "    <tr>\n",
       "      <td>3</td>\n",
       "      <td>2006-04-01 03:00:00.000 +0200</td>\n",
       "      <td>Partly Cloudy</td>\n",
       "      <td>rain</td>\n",
       "      <td>8.288889</td>\n",
       "      <td>5.944444</td>\n",
       "      <td>0.83</td>\n",
       "      <td>14.1036</td>\n",
       "      <td>269</td>\n",
       "      <td>15.8263</td>\n",
       "      <td>1016.41</td>\n",
       "      <td>Partly cloudy throughout the day.</td>\n",
       "    </tr>\n",
       "    <tr>\n",
       "      <td>4</td>\n",
       "      <td>2006-04-01 04:00:00.000 +0200</td>\n",
       "      <td>Mostly Cloudy</td>\n",
       "      <td>rain</td>\n",
       "      <td>8.755556</td>\n",
       "      <td>6.977778</td>\n",
       "      <td>0.83</td>\n",
       "      <td>11.0446</td>\n",
       "      <td>259</td>\n",
       "      <td>15.8263</td>\n",
       "      <td>1016.51</td>\n",
       "      <td>Partly cloudy throughout the day.</td>\n",
       "    </tr>\n",
       "  </tbody>\n",
       "</table>\n",
       "</div>"
      ],
      "text/plain": [
       "                  Formatted Date        Summary Precip Type  Temperature (C)  \\\n",
       "0  2006-04-01 00:00:00.000 +0200  Partly Cloudy        rain         9.472222   \n",
       "1  2006-04-01 01:00:00.000 +0200  Partly Cloudy        rain         9.355556   \n",
       "2  2006-04-01 02:00:00.000 +0200  Mostly Cloudy        rain         9.377778   \n",
       "3  2006-04-01 03:00:00.000 +0200  Partly Cloudy        rain         8.288889   \n",
       "4  2006-04-01 04:00:00.000 +0200  Mostly Cloudy        rain         8.755556   \n",
       "\n",
       "   Apparent Temperature (C)  Humidity  Wind Speed (km/h)  \\\n",
       "0                  7.388889      0.89            14.1197   \n",
       "1                  7.227778      0.86            14.2646   \n",
       "2                  9.377778      0.89             3.9284   \n",
       "3                  5.944444      0.83            14.1036   \n",
       "4                  6.977778      0.83            11.0446   \n",
       "\n",
       "   Wind Bearing (degrees)  Visibility (km)  Pressure (millibars)  \\\n",
       "0                     251          15.8263               1015.13   \n",
       "1                     259          15.8263               1015.63   \n",
       "2                     204          14.9569               1015.94   \n",
       "3                     269          15.8263               1016.41   \n",
       "4                     259          15.8263               1016.51   \n",
       "\n",
       "                       Daily Summary  \n",
       "0  Partly cloudy throughout the day.  \n",
       "1  Partly cloudy throughout the day.  \n",
       "2  Partly cloudy throughout the day.  \n",
       "3  Partly cloudy throughout the day.  \n",
       "4  Partly cloudy throughout the day.  "
      ]
     },
     "execution_count": 3,
     "metadata": {},
     "output_type": "execute_result"
    }
   ],
   "source": [
    "df.head()"
   ]
  },
  {
   "cell_type": "code",
   "execution_count": 4,
   "metadata": {},
   "outputs": [
    {
     "data": {
      "text/html": [
       "<div>\n",
       "<style scoped>\n",
       "    .dataframe tbody tr th:only-of-type {\n",
       "        vertical-align: middle;\n",
       "    }\n",
       "\n",
       "    .dataframe tbody tr th {\n",
       "        vertical-align: top;\n",
       "    }\n",
       "\n",
       "    .dataframe thead th {\n",
       "        text-align: right;\n",
       "    }\n",
       "</style>\n",
       "<table border=\"1\" class=\"dataframe\">\n",
       "  <thead>\n",
       "    <tr style=\"text-align: right;\">\n",
       "      <th></th>\n",
       "      <th>Temperature (C)</th>\n",
       "      <th>Apparent Temperature (C)</th>\n",
       "      <th>Humidity</th>\n",
       "      <th>Wind Speed (km/h)</th>\n",
       "      <th>Wind Bearing (degrees)</th>\n",
       "      <th>Visibility (km)</th>\n",
       "      <th>Pressure (millibars)</th>\n",
       "    </tr>\n",
       "  </thead>\n",
       "  <tbody>\n",
       "    <tr>\n",
       "      <td>Temperature (C)</td>\n",
       "      <td>1.000000</td>\n",
       "      <td>0.992650</td>\n",
       "      <td>-0.631860</td>\n",
       "      <td>0.006087</td>\n",
       "      <td>0.028669</td>\n",
       "      <td>0.393023</td>\n",
       "      <td>-0.008325</td>\n",
       "    </tr>\n",
       "    <tr>\n",
       "      <td>Apparent Temperature (C)</td>\n",
       "      <td>0.992650</td>\n",
       "      <td>1.000000</td>\n",
       "      <td>-0.602287</td>\n",
       "      <td>-0.059701</td>\n",
       "      <td>0.027553</td>\n",
       "      <td>0.381814</td>\n",
       "      <td>-0.002696</td>\n",
       "    </tr>\n",
       "    <tr>\n",
       "      <td>Humidity</td>\n",
       "      <td>-0.631860</td>\n",
       "      <td>-0.602287</td>\n",
       "      <td>1.000000</td>\n",
       "      <td>-0.222247</td>\n",
       "      <td>0.001742</td>\n",
       "      <td>-0.370555</td>\n",
       "      <td>0.007628</td>\n",
       "    </tr>\n",
       "    <tr>\n",
       "      <td>Wind Speed (km/h)</td>\n",
       "      <td>0.006087</td>\n",
       "      <td>-0.059701</td>\n",
       "      <td>-0.222247</td>\n",
       "      <td>1.000000</td>\n",
       "      <td>0.104298</td>\n",
       "      <td>0.100110</td>\n",
       "      <td>-0.048356</td>\n",
       "    </tr>\n",
       "    <tr>\n",
       "      <td>Wind Bearing (degrees)</td>\n",
       "      <td>0.028669</td>\n",
       "      <td>0.027553</td>\n",
       "      <td>0.001742</td>\n",
       "      <td>0.104298</td>\n",
       "      <td>1.000000</td>\n",
       "      <td>0.048980</td>\n",
       "      <td>-0.010738</td>\n",
       "    </tr>\n",
       "    <tr>\n",
       "      <td>Visibility (km)</td>\n",
       "      <td>0.393023</td>\n",
       "      <td>0.381814</td>\n",
       "      <td>-0.370555</td>\n",
       "      <td>0.100110</td>\n",
       "      <td>0.048980</td>\n",
       "      <td>1.000000</td>\n",
       "      <td>0.058638</td>\n",
       "    </tr>\n",
       "    <tr>\n",
       "      <td>Pressure (millibars)</td>\n",
       "      <td>-0.008325</td>\n",
       "      <td>-0.002696</td>\n",
       "      <td>0.007628</td>\n",
       "      <td>-0.048356</td>\n",
       "      <td>-0.010738</td>\n",
       "      <td>0.058638</td>\n",
       "      <td>1.000000</td>\n",
       "    </tr>\n",
       "  </tbody>\n",
       "</table>\n",
       "</div>"
      ],
      "text/plain": [
       "                          Temperature (C)  Apparent Temperature (C)  Humidity  \\\n",
       "Temperature (C)                  1.000000                  0.992650 -0.631860   \n",
       "Apparent Temperature (C)         0.992650                  1.000000 -0.602287   \n",
       "Humidity                        -0.631860                 -0.602287  1.000000   \n",
       "Wind Speed (km/h)                0.006087                 -0.059701 -0.222247   \n",
       "Wind Bearing (degrees)           0.028669                  0.027553  0.001742   \n",
       "Visibility (km)                  0.393023                  0.381814 -0.370555   \n",
       "Pressure (millibars)            -0.008325                 -0.002696  0.007628   \n",
       "\n",
       "                          Wind Speed (km/h)  Wind Bearing (degrees)  \\\n",
       "Temperature (C)                    0.006087                0.028669   \n",
       "Apparent Temperature (C)          -0.059701                0.027553   \n",
       "Humidity                          -0.222247                0.001742   \n",
       "Wind Speed (km/h)                  1.000000                0.104298   \n",
       "Wind Bearing (degrees)             0.104298                1.000000   \n",
       "Visibility (km)                    0.100110                0.048980   \n",
       "Pressure (millibars)              -0.048356               -0.010738   \n",
       "\n",
       "                          Visibility (km)  Pressure (millibars)  \n",
       "Temperature (C)                  0.393023             -0.008325  \n",
       "Apparent Temperature (C)         0.381814             -0.002696  \n",
       "Humidity                        -0.370555              0.007628  \n",
       "Wind Speed (km/h)                0.100110             -0.048356  \n",
       "Wind Bearing (degrees)           0.048980             -0.010738  \n",
       "Visibility (km)                  1.000000              0.058638  \n",
       "Pressure (millibars)             0.058638              1.000000  "
      ]
     },
     "execution_count": 4,
     "metadata": {},
     "output_type": "execute_result"
    }
   ],
   "source": [
    "df.corr()"
   ]
  },
  {
   "cell_type": "code",
   "execution_count": 5,
   "metadata": {},
   "outputs": [
    {
     "name": "stdout",
     "output_type": "stream",
     "text": [
      "<class 'pandas.core.frame.DataFrame'>\n",
      "(77285, 11)\n"
     ]
    }
   ],
   "source": [
    "print(type(df))\n",
    "print(df.shape)"
   ]
  },
  {
   "cell_type": "code",
   "execution_count": 6,
   "metadata": {},
   "outputs": [],
   "source": [
    "X_train,X_test = train_test_split(np.array(df), test_size=0.2,random_state=40)\n",
    "#print(type(X_train))\n",
    "#print(type(X_test))\n",
    "X_tr = X_train[:,3:8]\n",
    "Y_tr = X_train[:,4:5]\n",
    "\n",
    "X_ts = X_test[:,3:8]\n",
    "Y_ts = X_test[:,4:5]"
   ]
  },
  {
   "cell_type": "code",
   "execution_count": 7,
   "metadata": {},
   "outputs": [
    {
     "name": "stdout",
     "output_type": "stream",
     "text": [
      "(61828, 5)\n",
      "(61828, 1)\n",
      "(15457, 5)\n",
      "(15457, 1)\n"
     ]
    }
   ],
   "source": [
    "#print(type(X_tr))\n",
    "print(X_tr.shape)\n",
    "#print(type(Y_tr))\n",
    "print(Y_tr.shape)\n",
    "print(X_ts.shape)\n",
    "print(Y_ts.shape)"
   ]
  },
  {
   "cell_type": "code",
   "execution_count": 8,
   "metadata": {},
   "outputs": [],
   "source": [
    "class Airfoil:\n",
    "    def getPredict(self,coeffs,row):\n",
    "        yPred=coeffs[0]\n",
    "        for i in range(1,len(coeffs)):\n",
    "            yPred=yPred+(coeffs[i]*row[i-1])\n",
    "        return yPred\n",
    "    \n",
    "    def fit(self,X,Y,initial_value,iterations,l_rate):\n",
    "        coeffs = []\n",
    "        #l_rate = 0.001\n",
    "        for i in range(0,len(X[0])+1):\n",
    "            coeffs.append(initial_value)\n",
    "        for i in range(iterations):\n",
    "            for j in range(len(X)):\n",
    "                yPred=self.getPredict(coeffs,X[j])\n",
    "                error=yPred-Y[j]\n",
    "                coeffs[0]-=l_rate*error\n",
    "                for k in range(len(X[j])):\n",
    "                    coeffs[k+1]-=l_rate*error*X[j][k]\n",
    "        return coeffs\n"
   ]
  },
  {
   "cell_type": "code",
   "execution_count": 9,
   "metadata": {},
   "outputs": [],
   "source": [
    "def mean_absolute_percentage_error(y_true, y_pred): \n",
    "    y_true, y_pred = np.array(y_true), np.array(y_pred)\n",
    "    return np.mean(np.abs(y_true-y_pred))"
   ]
  },
  {
   "cell_type": "code",
   "execution_count": 10,
   "metadata": {},
   "outputs": [],
   "source": [
    "scaler = MinMaxScaler()\n",
    "X_train=scaler.fit_transform(X_tr)  #normalizing data\n",
    "Y_test=scaler.fit_transform(X_ts)\n",
    "\n",
    "\n",
    "airFoil=Airfoil()\n",
    "initial_value=[0.0,2.5,5.0,7.5,10.0]\n",
    "iterations=[50,75,100]\n",
    "l_rate=0.001\n",
    "\n",
    "r2_scr=[]\n",
    "m_sq_error=[]\n",
    "m_abs_error=[]\n",
    "m_abs_per_error=[]\n",
    "\n",
    "for i in range(len(initial_value)):\n",
    "    r_score = []\n",
    "    mean_sq_error = []\n",
    "    mean_abs_error = []\n",
    "    mean_abs_per_error = []\n",
    "    for j in range(len(iterations)):\n",
    "        coefficient=airFoil.fit(X_train,Y_tr,initial_value[i],iterations[j],l_rate)\n",
    "        predictions=[]\n",
    "        for k in range(len(Y_test)):\n",
    "            predictions.append(airFoil.getPredict(coefficient,Y_test[k]))\n",
    "        r_score.append(r2_score(Y_ts,predictions))\n",
    "        mean_sq_error.append(mean_squared_error(Y_ts,predictions))\n",
    "        mean_abs_error.append(mean_absolute_error(Y_ts,predictions))\n",
    "        mean_abs_per_error.append(mean_absolute_percentage_error(Y_ts,predictions))\n",
    "        \n",
    "    r2_scr.append(r_score)\n",
    "    m_sq_error.append(mean_sq_error)\n",
    "    m_abs_error.append(mean_abs_error)\n",
    "    m_abs_per_error.append(mean_abs_per_error)\n",
    "        \n",
    "\n",
    "#coefficient=airFoil.fit(X_train,Y_tr,initial_value,iterations,l_rate)"
   ]
  },
  {
   "cell_type": "code",
   "execution_count": 31,
   "metadata": {},
   "outputs": [
    {
     "data": {
      "image/png": "[encoded data removed]",
      "text/plain": [
       "<Figure size 432x288 with 1 Axes>"
      ]
     },
     "metadata": {
      "needs_background": "light"
     },
     "output_type": "display_data"
    }
   ],
   "source": [
    "for i in range(len(r2_scr)):\n",
    "    plt.plot(iterations,r2_scr[i],label=initial_value[i])\n",
    "    #plt.yticks([0.9910,0.9915,0.9920,0.9925,0.9930,0.9935,0.9940,0.9945,0.9950])\n",
    "    plt.legend(loc=\"upper right\")\n",
    "    plt.xlabel(\"Iterations\")\n",
    "    plt.ylabel(\"r2 score\")"
   ]
  },
  {
   "cell_type": "code",
   "execution_count": 25,
   "metadata": {},
   "outputs": [
    {
     "data": {
      "image/png": "[encoded data removed]",
      "text/plain": [
       "<Figure size 432x288 with 1 Axes>"
      ]
     },
     "metadata": {
      "needs_background": "light"
     },
     "output_type": "display_data"
    }
   ],
   "source": [
    "for i in range(len(m_sq_error)):\n",
    "    plt.plot(iterations,m_sq_error[i],label=initial_value[i])\n",
    "    #plt.yticks([0.9910,0.9915,0.9920,0.9925,0.9930,0.9935,0.9940,0.9945,0.9950])\n",
    "    plt.legend(loc=\"upper right\")\n",
    "    plt.xlabel(\"Iterations\")\n",
    "    plt.ylabel(\"mean sqaure error\")"
   ]
  },
  {
   "cell_type": "code",
   "execution_count": 27,
   "metadata": {},
   "outputs": [],
   "source": [
    "airFoil1=Airfoil()\n",
    "initial_value1=0.0\n",
    "iterations1=[50,75,100]\n",
    "l_rate1= [0.001,0.003,0.01,0.03]\n",
    "\n",
    "\n",
    "r2_scr1=[]\n",
    "m_sq_error1=[]\n",
    "m_abs_error1=[]\n",
    "m_abs_per_error1=[]\n",
    "\n",
    "for i in range(len(l_rate1)):\n",
    "    r_score = []\n",
    "    mean_sq_error = []\n",
    "    mean_abs_error = []\n",
    "    mean_abs_per_error = []\n",
    "    for j in range(len(iterations1)):\n",
    "        coefficient=airFoil1.fit(X_train,Y_tr,initial_value1,iterations1[j],l_rate1[i])\n",
    "        predictions=[]\n",
    "        for k in range(len(Y_test)):\n",
    "            predictions.append(airFoil1.getPredict(coefficient,Y_test[k]))\n",
    "        r_score.append(r2_score(Y_ts,predictions))\n",
    "        mean_sq_error.append(mean_squared_error(Y_ts,predictions))\n",
    "        mean_abs_error.append(mean_absolute_error(Y_ts,predictions))\n",
    "        mean_abs_per_error.append(mean_absolute_percentage_error(Y_ts,predictions))\n",
    "        \n",
    "    r2_scr1.append(r_score)\n",
    "    m_sq_error1.append(mean_sq_error)\n",
    "    m_abs_error1.append(mean_abs_error)\n",
    "    m_abs_per_error1.append(mean_abs_per_error)"
   ]
  },
  {
   "cell_type": "code",
   "execution_count": 29,
   "metadata": {},
   "outputs": [
    {
     "data": {
      "image/png": "[encoded data removed]",
      "text/plain": [
       "<Figure size 432x288 with 1 Axes>"
      ]
     },
     "metadata": {
      "needs_background": "light"
     },
     "output_type": "display_data"
    }
   ],
   "source": [
    "for i in range(len(r2_scr1)):\n",
    "    plt.plot(iterations,r2_scr1[i],label=l_rate1[i])\n",
    "    #plt.yticks([0.9910,0.9915,0.9920,0.9925,0.9930,0.9935,0.9940,0.9945,0.9950])\n",
    "    plt.legend(loc=\"upper right\")\n",
    "    plt.xlabel(\"Iterations\")\n",
    "    plt.ylabel(\"r2 score\")"
   ]
  },
  {
   "cell_type": "code",
   "execution_count": 30,
   "metadata": {},
   "outputs": [
    {
     "data": {
      "image/png": "[encoded data removed]",
      "text/plain": [
       "<Figure size 432x288 with 1 Axes>"
      ]
     },
     "metadata": {
      "needs_background": "light"
     },
     "output_type": "display_data"
    }
   ],
   "source": [
    "for i in range(len(m_sq_error1)):\n",
    "    plt.plot(iterations,m_sq_error1[i],label=l_rate1[i])\n",
    "    #plt.yticks([0.9910,0.9915,0.9920,0.9925,0.9930,0.9935,0.9940,0.9945,0.9950])\n",
    "    plt.legend(loc=\"upper right\")\n",
    "    plt.xlabel(\"Iterations\")\n",
    "    plt.ylabel(\"mean sqaure error\")"
   ]
  },
  {
   "cell_type": "code",
   "execution_count": null,
   "metadata": {},
   "outputs": [],
   "source": []
  },
  {
   "cell_type": "code",
   "execution_count": null,
   "metadata": {},
   "outputs": [],
   "source": []
  },
  {
   "cell_type": "code",
   "execution_count": null,
   "metadata": {},
   "outputs": [],
   "source": []
  },
  {
   "cell_type": "code",
   "execution_count": null,
   "metadata": {},
   "outputs": [],
   "source": []
  },
  {
   "cell_type": "code",
   "execution_count": null,
   "metadata": {},
   "outputs": [],
   "source": []
  }
 ],
 "metadata": {
  "kernelspec": {
   "display_name": "Python 3",
   "language": "python",
   "name": "python3"
  },
  "language_info": {
   "codemirror_mode": {
    "name": "ipython",
    "version": 3
   },
   "file_extension": ".py",
   "mimetype": "text/x-python",
   "name": "python",
   "nbconvert_exporter": "python",
   "pygments_lexer": "ipython3",
   "version": "3.7.4"
  }
 },
 "nbformat": 4,
 "nbformat_minor": 2
}
