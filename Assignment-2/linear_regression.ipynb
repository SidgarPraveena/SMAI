{
 "cells": [
  {
   "cell_type": "code",
   "execution_count": 16,
   "metadata": {},
   "outputs": [],
   "source": [
    "import pandas as pd\n",
    "import numpy as np\n",
    "from sklearn.model_selection import train_test_split\n",
    "from sklearn.preprocessing import MinMaxScaler\n",
    "from sklearn.metrics import r2_score\n",
    "from sklearn.metrics import mean_squared_error\n",
    "import matplotlib.pyplot as plt\n"
   ]
  },
  {
   "cell_type": "code",
   "execution_count": 2,
   "metadata": {},
   "outputs": [],
   "source": [
    "df=pd.read_csv('./Datasets/Question-3/airfoil.csv',header=None)\n",
    "df_train,df_test=train_test_split(np.array(df), test_size=0.2,random_state=40)"
   ]
  },
  {
   "cell_type": "code",
   "execution_count": 3,
   "metadata": {},
   "outputs": [
    {
     "name": "stdout",
     "output_type": "stream",
     "text": [
      "<class 'pandas.core.frame.DataFrame'>\n",
      "(1202, 6)\n"
     ]
    }
   ],
   "source": [
    "print(type(df))\n",
    "print(df.shape)"
   ]
  },
  {
   "cell_type": "code",
   "execution_count": 4,
   "metadata": {},
   "outputs": [
    {
     "name": "stdout",
     "output_type": "stream",
     "text": [
      "        0     1       2     3         4        5\n",
      "0  8000.0   4.0  0.2286  39.6  0.004738  113.129\n",
      "1  6300.0   0.0  0.0508  55.5  0.000762  132.796\n",
      "2   400.0   4.0  0.2286  55.5  0.004286  123.274\n",
      "3  1250.0  15.4  0.0508  39.6  0.028259  126.743\n",
      "4   800.0   7.3  0.2286  39.6  0.012348  126.299\n"
     ]
    }
   ],
   "source": [
    "print(df.head())"
   ]
  },
  {
   "cell_type": "code",
   "execution_count": 5,
   "metadata": {},
   "outputs": [
    {
     "name": "stdout",
     "output_type": "stream",
     "text": [
      "<class 'numpy.ndarray'>\n",
      "(961, 6)\n",
      "<class 'numpy.ndarray'>\n",
      "(241, 6)\n"
     ]
    }
   ],
   "source": [
    "print(type(df_train))\n",
    "print(df_train.shape)\n",
    "print(type(df_test))\n",
    "print(df_test.shape)"
   ]
  },
  {
   "cell_type": "code",
   "execution_count": 6,
   "metadata": {},
   "outputs": [
    {
     "name": "stdout",
     "output_type": "stream",
     "text": [
      "(961, 5)\n",
      "(961, 1)\n",
      "(241, 5)\n",
      "(241, 1)\n"
     ]
    }
   ],
   "source": [
    "X_train=df_train[:,0:5]\n",
    "X_label=df_train[:,5:]\n",
    "#print(type(X_train))\n",
    "print(X_train.shape)\n",
    "#print(type(X_label))\n",
    "print(X_label.shape)\n",
    "\n",
    "Y_test=df_test[:,0:5]\n",
    "Y_label=df_test[:,5:]\n",
    "print(Y_test.shape)\n",
    "print(Y_label.shape)"
   ]
  },
  {
   "cell_type": "code",
   "execution_count": 7,
   "metadata": {},
   "outputs": [],
   "source": [
    "class Airfoil:\n",
    "    def getPredict(self,coeffs,row):\n",
    "        yPred=coeffs[0]\n",
    "        for i in range(1,len(coeffs)):\n",
    "            yPred=yPred+(coeffs[i]*row[i-1])\n",
    "        return yPred\n",
    "    \n",
    "    def fit(self,X,Y,initial_value,iterations,l_rate):\n",
    "        coeffs = []\n",
    "        #l_rate = 0.001\n",
    "        for i in range(0,len(X[0])+1):\n",
    "            coeffs.append(initial_value)\n",
    "        for i in range(iterations):\n",
    "            for j in range(len(X)):\n",
    "                yPred=self.getPredict(coeffs,X[j])\n",
    "                error=yPred-Y[j]\n",
    "                coeffs[0]-=l_rate*error\n",
    "                for k in range(len(X[j])):\n",
    "                    coeffs[k+1]-=l_rate*error*X[j][k]\n",
    "        return coeffs\n",
    "    \n",
    "    #def train(self,path_to_train_data):\n",
    "        \n",
    "        "
   ]
  },
  {
   "cell_type": "code",
   "execution_count": 8,
   "metadata": {},
   "outputs": [],
   "source": [
    "scaler = MinMaxScaler()\n",
    "X_train=scaler.fit_transform(X_train)  #normalizing data\n",
    "Y_test=scaler.fit_transform(Y_test)\n",
    "\n",
    "airFoil=Airfoil()\n",
    "initial_value=[0.0,2.5,5.0,7.5,10.0]\n",
    "iterations=[200,400,600,800,1000,1200]\n",
    "l_rate1 = 0.001\n",
    "\n",
    "rscore=[]\n",
    "msqerror=[]\n",
    "\n",
    "for i in range(len(initial_value)):\n",
    "    r_score = []\n",
    "    mean_sq_error = []\n",
    "    for j in range(len(iterations)):\n",
    "        coefficient=airFoil.fit(X_train,X_label,initial_value[i],iterations[j],l_rate1)\n",
    "        predictions=[]\n",
    "        for k in range(len(Y_test)):\n",
    "            predictions.append(airFoil.getPredict(coefficient,Y_test[k]))\n",
    "        r_score.append(r2_score(Y_label,predictions))\n",
    "        mean_sq_error.append(mean_squared_error(Y_label,predictions))\n",
    "        \n",
    "    rscore.append(r_score)\n",
    "    msqerror.append(mean_sq_error)\n",
    "        "
   ]
  },
  {
   "cell_type": "code",
   "execution_count": 20,
   "metadata": {},
   "outputs": [
    {
     "data": {
      "image/png": "[encoded data removed]",
      "text/plain": [
       "<Figure size 432x288 with 1 Axes>"
      ]
     },
     "metadata": {
      "needs_background": "light"
     },
     "output_type": "display_data"
    }
   ],
   "source": [
    "#yaxis=[22.60,22.61,22.62,22.63,22.64,22.65,22.66,22.67,22.68,22.69,22.70]\n",
    "for i in range(len(msqerror)):\n",
    "    plt.plot(iterations, msqerror[i], label=initial_value[i])\n",
    "    #plt.yticks(yaxis)\n",
    "    plt.legend(loc=\"upper right\")\n",
    "    plt.xlabel(\"Iterations\")\n",
    "    plt.ylabel(\"mean square error\")\n",
    "\n"
   ]
  },
  {
   "cell_type": "code",
   "execution_count": 24,
   "metadata": {},
   "outputs": [
    {
     "data": {
      "image/png": "[encoded data removed]",
      "text/plain": [
       "<Figure size 432x288 with 1 Axes>"
      ]
     },
     "metadata": {
      "needs_background": "light"
     },
     "output_type": "display_data"
    }
   ],
   "source": [
    "for i in range(len(rscore)):\n",
    "    plt.plot(iterations,rscore[i],label=initial_value[i])\n",
    "    plt.xlabel(\"Iterations\")\n",
    "    plt.ylabel(\"r2 score\")\n",
    "    plt.legend(loc=\"upper right\")"
   ]
  },
  {
   "cell_type": "code",
   "execution_count": 23,
   "metadata": {},
   "outputs": [],
   "source": [
    "initial_value1=0.0\n",
    "iterations=[200,400,600,800,1000,1200]\n",
    "l_rate = [0.001,0.003,0.01,0.03,0.1,0.3]\n",
    "\n",
    "rscore1=[]\n",
    "msqerror1=[]\n",
    "\n",
    "for i in range(len(l_rate)):\n",
    "    r_score = []\n",
    "    mean_sq_error = []\n",
    "    for j in range(len(iterations)):\n",
    "        coefficient=airFoil.fit(X_train,X_label,initial_value1,iterations[0],l_rate[i])\n",
    "        predictions=[]\n",
    "        for k in range(len(Y_test)):\n",
    "            predictions.append(airFoil.getPredict(coefficient,Y_test[k]))\n",
    "        r_score.append(r2_score(Y_label,predictions))\n",
    "        mean_sq_error.append(mean_squared_error(Y_label,predictions))\n",
    "        \n",
    "    rscore1.append(r_score)\n",
    "    msqerror1.append(mean_sq_error)\n",
    "        "
   ]
  },
  {
   "cell_type": "code",
   "execution_count": 25,
   "metadata": {},
   "outputs": [
    {
     "data": {
      "image/png": "[encoded data removed]",
      "text/plain": [
       "<Figure size 432x288 with 1 Axes>"
      ]
     },
     "metadata": {
      "needs_background": "light"
     },
     "output_type": "display_data"
    }
   ],
   "source": [
    "for i in range(len(msqerror1)):\n",
    "    plt.plot(iterations, msqerror1[i], label=l_rate[i])\n",
    "    plt.legend(loc=\"upper right\")\n",
    "    plt.xlabel(\"Iterations\")\n",
    "    plt.ylabel(\"mean square error\")\n"
   ]
  },
  {
   "cell_type": "code",
   "execution_count": 26,
   "metadata": {},
   "outputs": [
    {
     "data": {
      "image/png": "[encoded data removed]",
      "text/plain": [
       "<Figure size 432x288 with 1 Axes>"
      ]
     },
     "metadata": {
      "needs_background": "light"
     },
     "output_type": "display_data"
    }
   ],
   "source": [
    "for i in range(len(rscore1)):\n",
    "    plt.plot(iterations,rscore1[i],label=l_rate[i])\n",
    "    plt.xlabel(\"Iterations\")\n",
    "    plt.ylabel(\"r2 score\")\n",
    "    plt.legend(loc=\"upper right\")"
   ]
  },
  {
   "cell_type": "code",
   "execution_count": null,
   "metadata": {},
   "outputs": [],
   "source": []
  },
  {
   "cell_type": "code",
   "execution_count": null,
   "metadata": {},
   "outputs": [],
   "source": []
  },
  {
   "cell_type": "code",
   "execution_count": null,
   "metadata": {},
   "outputs": [],
   "source": []
  },
  {
   "cell_type": "code",
   "execution_count": null,
   "metadata": {},
   "outputs": [],
   "source": []
  },
  {
   "cell_type": "code",
   "execution_count": null,
   "metadata": {},
   "outputs": [],
   "source": []
  },
  {
   "cell_type": "code",
   "execution_count": null,
   "metadata": {},
   "outputs": [],
   "source": []
  }
 ],
 "metadata": {
  "kernelspec": {
   "display_name": "Python 3",
   "language": "python",
   "name": "python3"
  },
  "language_info": {
   "codemirror_mode": {
    "name": "ipython",
    "version": 3
   },
   "file_extension": ".py",
   "mimetype": "text/x-python",
   "name": "python",
   "nbconvert_exporter": "python",
   "pygments_lexer": "ipython3",
   "version": "3.7.4"
  }
 },
 "nbformat": 4,
 "nbformat_minor": 2
}
