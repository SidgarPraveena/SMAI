{
 "cells": [
  {
   "cell_type": "code",
   "execution_count": 1,
   "metadata": {},
   "outputs": [],
   "source": [
    "import numpy as np\n",
    "import pandas as pd\n",
    "import pickle\n",
    "from sklearn.svm import LinearSVC\n",
    "from matplotlib import pyplot as plt\n",
    "from sklearn.preprocessing import MinMaxScaler\n",
    "from sklearn.model_selection import train_test_split\n",
    "from sklearn.metrics import r2_score\n",
    "from sklearn.metrics import mean_squared_error\n",
    "from sklearn.metrics import mean_absolute_error\n",
    "from sklearn.metrics import accuracy_score"
   ]
  },
  {
   "cell_type": "code",
   "execution_count": 2,
   "metadata": {},
   "outputs": [],
   "source": [
    "def unpickle(file):\n",
    "    import pickle\n",
    "    with open(file, 'rb') as fo:\n",
    "        dict = pickle.load(fo, encoding='bytes')\n",
    "    return dict"
   ]
  },
  {
   "cell_type": "code",
   "execution_count": 3,
   "metadata": {},
   "outputs": [],
   "source": [
    "dict1=unpickle('./Datasets/Question-1/data_batch_1')\n",
    "dict2=unpickle('./Datasets/Question-1/data_batch_2')\n",
    "dict3=unpickle('./Datasets/Question-1/data_batch_3')\n",
    "dict4=unpickle('./Datasets/Question-1/data_batch_4')\n",
    "dict5=unpickle('./Datasets/Question-1/data_batch_5')"
   ]
  },
  {
   "cell_type": "code",
   "execution_count": 4,
   "metadata": {},
   "outputs": [
    {
     "name": "stdout",
     "output_type": "stream",
     "text": [
      "(10000, 3072)\n",
      "(20000, 3072)\n",
      "(30000, 3072)\n",
      "(40000, 3072)\n",
      "(50000, 3072)\n"
     ]
    }
   ],
   "source": [
    "x1=dict1[b'data']\n",
    "print(x1.shape)\n",
    "x1=np.append(x1,dict2[b'data'],axis=0)\n",
    "print(x1.shape)\n",
    "x1=np.append(x1,dict3[b'data'],axis=0)\n",
    "print(x1.shape)\n",
    "x1=np.append(x1,dict4[b'data'],axis=0)\n",
    "print(x1.shape)\n",
    "x1=np.append(x1,dict5[b'data'],axis=0)\n",
    "print(x1.shape)"
   ]
  },
  {
   "cell_type": "code",
   "execution_count": 5,
   "metadata": {},
   "outputs": [
    {
     "name": "stdout",
     "output_type": "stream",
     "text": [
      "(20000,)\n",
      "(30000,)\n",
      "(40000,)\n",
      "(50000,)\n"
     ]
    }
   ],
   "source": [
    "y1=dict1[b'labels']\n",
    "#print(y1.shape)\n",
    "y1=np.append(y1,dict2[b'labels'],axis=0)\n",
    "print(y1.shape)\n",
    "y1=np.append(y1,dict3[b'labels'],axis=0)\n",
    "print(y1.shape)\n",
    "y1=np.append(y1,dict4[b'labels'],axis=0)\n",
    "print(y1.shape)\n",
    "y1=np.append(y1,dict5[b'labels'],axis=0)\n",
    "print(y1.shape)"
   ]
  },
  {
   "cell_type": "code",
   "execution_count": 6,
   "metadata": {},
   "outputs": [
    {
     "name": "stdout",
     "output_type": "stream",
     "text": [
      "(50000, 3072)\n",
      "(50000,)\n"
     ]
    }
   ],
   "source": [
    "print(x1.shape)\n",
    "print(y1.shape)"
   ]
  },
  {
   "cell_type": "code",
   "execution_count": 7,
   "metadata": {},
   "outputs": [
    {
     "name": "stdout",
     "output_type": "stream",
     "text": [
      "(40000, 3072)\n",
      "(10000, 3072)\n",
      "(40000,)\n",
      "(10000,)\n"
     ]
    }
   ],
   "source": [
    "X_train, X_test, y_train, y_test = train_test_split(x1,y1, test_size=0.2,random_state=109)\n",
    "print(X_train.shape)\n",
    "print(X_test.shape)\n",
    "print(y_train.shape)\n",
    "print(y_test.shape)"
   ]
  },
  {
   "cell_type": "code",
   "execution_count": 8,
   "metadata": {},
   "outputs": [
    {
     "name": "stdout",
     "output_type": "stream",
     "text": [
      "(40000, 3072)\n",
      "(10000, 3072)\n"
     ]
    }
   ],
   "source": [
    "scaler = MinMaxScaler()\n",
    "X_train=scaler.fit_transform(X_train)  #normalizing data\n",
    "X_test=scaler.fit_transform(X_test)\n",
    "print(X_train.shape)\n",
    "print(X_test.shape)"
   ]
  },
  {
   "cell_type": "code",
   "execution_count": 9,
   "metadata": {},
   "outputs": [],
   "source": [
    "def mean_absolute_percentage_error(y_true, y_pred): \n",
    "    y_true, y_pred = np.array(y_true), np.array(y_pred)\n",
    "    return np.mean(np.abs(y_true-y_pred))"
   ]
  },
  {
   "cell_type": "code",
   "execution_count": 10,
   "metadata": {},
   "outputs": [
    {
     "name": "stdout",
     "output_type": "stream",
     "text": [
      "0.415 11.8399 2.2185 2.2185\n",
      "0.4124 11.8651 2.2253 2.2253\n"
     ]
    },
    {
     "name": "stderr",
     "output_type": "stream",
     "text": [
      "D:\\Anaconda3\\lib\\site-packages\\sklearn\\svm\\base.py:929: ConvergenceWarning: Liblinear failed to converge, increase the number of iterations.\n",
      "  \"the number of iterations.\", ConvergenceWarning)\n"
     ]
    },
    {
     "name": "stdout",
     "output_type": "stream",
     "text": [
      "0.4006 12.102 2.2646 2.2646\n"
     ]
    },
    {
     "name": "stderr",
     "output_type": "stream",
     "text": [
      "D:\\Anaconda3\\lib\\site-packages\\sklearn\\svm\\base.py:929: ConvergenceWarning: Liblinear failed to converge, increase the number of iterations.\n",
      "  \"the number of iterations.\", ConvergenceWarning)\n"
     ]
    },
    {
     "name": "stdout",
     "output_type": "stream",
     "text": [
      "0.3906 12.1854 2.2888 2.2888\n"
     ]
    }
   ],
   "source": [
    "C=[0.001,0.003,0.01,0.03]\n",
    "acc_scr=[]\n",
    "m_sq_error=[]\n",
    "m_abs_error=[]\n",
    "m_abs_per=[]\n",
    "for i in range (len(C)):\n",
    "    clf=LinearSVC(random_state=0,tol=1e-9,max_iter=500,C=C[i]) \n",
    "    clf.fit(X_train, y_train)\n",
    "    y_pred=clf.predict(X_test)\n",
    "    print(accuracy_score(y_test,y_pred),end=\" \")\n",
    "    print(mean_squared_error(y_test,y_pred),end=\" \")\n",
    "    print(mean_absolute_error(y_test,y_pred),end=\" \")\n",
    "    print(mean_absolute_percentage_error(y_test,y_pred))\n",
    "    acc_scr.append(accuracy_score(y_test,y_pred))\n",
    "    m_sq_error.append(mean_squared_error(y_test,y_pred))\n",
    "    m_abs_error.append(mean_absolute_error(y_test,y_pred))\n",
    "    m_abs_per.append(mean_absolute_percentage_error(y_test,y_pred))\n",
    "    "
   ]
  }
 ],
 "metadata": {
  "kernelspec": {
   "display_name": "Python 3",
   "language": "python",
   "name": "python3"
  },
  "language_info": {
   "codemirror_mode": {
    "name": "ipython",
    "version": 3
   },
   "file_extension": ".py",
   "mimetype": "text/x-python",
   "name": "python",
   "nbconvert_exporter": "python",
   "pygments_lexer": "ipython3",
   "version": "3.7.4"
  }
 },
 "nbformat": 4,
 "nbformat_minor": 2
}
