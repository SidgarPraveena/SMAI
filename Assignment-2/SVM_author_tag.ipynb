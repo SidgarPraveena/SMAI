{
 "cells": [
  {
   "cell_type": "code",
   "execution_count": 1,
   "metadata": {},
   "outputs": [],
   "source": [
    "import pandas as pd\n",
    "import numpy as np\n",
    "from sklearn.model_selection import train_test_split\n",
    "from sklearn.feature_extraction.text import TfidfVectorizer\n",
    "from sklearn import svm\n",
    "from sklearn.metrics import accuracy_score\n",
    "from sklearn.metrics import confusion_matrix\n",
    "from sklearn.preprocessing import LabelEncoder\n",
    "import matplotlib.pyplot as plt\n",
    "import seaborn as sns\n",
    "from sklearn.metrics import classification_report as cr"
   ]
  },
  {
   "cell_type": "code",
   "execution_count": 2,
   "metadata": {},
   "outputs": [],
   "source": [
    "df=pd.read_csv('./Datasets/Question-5/train(1).csv')"
   ]
  },
  {
   "cell_type": "code",
   "execution_count": 3,
   "metadata": {},
   "outputs": [
    {
     "data": {
      "text/html": [
       "<div>\n",
       "<style scoped>\n",
       "    .dataframe tbody tr th:only-of-type {\n",
       "        vertical-align: middle;\n",
       "    }\n",
       "\n",
       "    .dataframe tbody tr th {\n",
       "        vertical-align: top;\n",
       "    }\n",
       "\n",
       "    .dataframe thead th {\n",
       "        text-align: right;\n",
       "    }\n",
       "</style>\n",
       "<table border=\"1\" class=\"dataframe\">\n",
       "  <thead>\n",
       "    <tr style=\"text-align: right;\">\n",
       "      <th></th>\n",
       "      <th>Unnamed: 0</th>\n",
       "      <th>text</th>\n",
       "      <th>author</th>\n",
       "    </tr>\n",
       "  </thead>\n",
       "  <tbody>\n",
       "    <tr>\n",
       "      <td>0</td>\n",
       "      <td>0</td>\n",
       "      <td>The sight of the military restored hope to tho...</td>\n",
       "      <td>MWS</td>\n",
       "    </tr>\n",
       "    <tr>\n",
       "      <td>1</td>\n",
       "      <td>1</td>\n",
       "      <td>Just as the building was wiped out by a German...</td>\n",
       "      <td>HPL</td>\n",
       "    </tr>\n",
       "    <tr>\n",
       "      <td>2</td>\n",
       "      <td>2</td>\n",
       "      <td>Do you wonder how it will seem?</td>\n",
       "      <td>HPL</td>\n",
       "    </tr>\n",
       "    <tr>\n",
       "      <td>3</td>\n",
       "      <td>3</td>\n",
       "      <td>My revenge is of no moment to you; yet, while ...</td>\n",
       "      <td>MWS</td>\n",
       "    </tr>\n",
       "    <tr>\n",
       "      <td>4</td>\n",
       "      <td>4</td>\n",
       "      <td>If he dares to reply, you can tell him from Lu...</td>\n",
       "      <td>EAP</td>\n",
       "    </tr>\n",
       "  </tbody>\n",
       "</table>\n",
       "</div>"
      ],
      "text/plain": [
       "   Unnamed: 0                                               text author\n",
       "0           0  The sight of the military restored hope to tho...    MWS\n",
       "1           1  Just as the building was wiped out by a German...    HPL\n",
       "2           2                    Do you wonder how it will seem?    HPL\n",
       "3           3  My revenge is of no moment to you; yet, while ...    MWS\n",
       "4           4  If he dares to reply, you can tell him from Lu...    EAP"
      ]
     },
     "execution_count": 3,
     "metadata": {},
     "output_type": "execute_result"
    }
   ],
   "source": [
    "df.head()"
   ]
  },
  {
   "cell_type": "code",
   "execution_count": 4,
   "metadata": {},
   "outputs": [
    {
     "data": {
      "text/plain": [
       "(15663, 3)"
      ]
     },
     "execution_count": 4,
     "metadata": {},
     "output_type": "execute_result"
    }
   ],
   "source": [
    "df.shape"
   ]
  },
  {
   "cell_type": "code",
   "execution_count": 5,
   "metadata": {},
   "outputs": [
    {
     "name": "stdout",
     "output_type": "stream",
     "text": [
      "(15663, 2)\n"
     ]
    }
   ],
   "source": [
    "df=df.drop(df.columns[0],axis=1)\n",
    "print(df.shape)"
   ]
  },
  {
   "cell_type": "code",
   "execution_count": 6,
   "metadata": {},
   "outputs": [],
   "source": [
    "X_train,X_test,Y_train,Y_test=train_test_split(df['text'],df['author'], test_size=0.2,random_state=40)"
   ]
  },
  {
   "cell_type": "code",
   "execution_count": 7,
   "metadata": {},
   "outputs": [
    {
     "name": "stdout",
     "output_type": "stream",
     "text": [
      "(12530,)\n",
      "1728     We were now thoroughly broken down; but the in...\n",
      "15113    I had a curious desire to look out of that win...\n",
      "15122                    I dwelt upon their peculiarities.\n",
      "9402     You say that \"but for the necessity of the rud...\n",
      "9584     Thus ran his discourse, until with the greates...\n",
      "Name: text, dtype: object\n",
      "(3133,)\n",
      "1147     I was indignant that he should sit at the same...\n",
      "15307    My senses were gratified and refreshed by a th...\n",
      "4282     Barring the door after us against the fury of ...\n",
      "1250     Told abaout an island east of Otaheité whar th...\n",
      "324      I at once offered to purchase it of the landlo...\n",
      "Name: text, dtype: object\n",
      "(12530,)\n",
      "1728     EAP\n",
      "15113    HPL\n",
      "15122    EAP\n",
      "9402     EAP\n",
      "9584     HPL\n",
      "Name: author, dtype: object\n",
      "(3133,)\n",
      "1147     MWS\n",
      "15307    MWS\n",
      "4282     HPL\n",
      "1250     HPL\n",
      "324      EAP\n",
      "Name: author, dtype: object\n"
     ]
    }
   ],
   "source": [
    "print(X_train.shape)\n",
    "print(X_train.head())\n",
    "print(X_test.shape)\n",
    "print(X_test.head())\n",
    "print(Y_train.shape)\n",
    "print(Y_train.head())\n",
    "print(Y_test.shape)\n",
    "print(Y_test.head())"
   ]
  },
  {
   "cell_type": "code",
   "execution_count": 11,
   "metadata": {},
   "outputs": [
    {
     "name": "stdout",
     "output_type": "stream",
     "text": [
      "(12530, 21085)\n",
      "(3133, 21085)\n"
     ]
    }
   ],
   "source": [
    "vectorizer = TfidfVectorizer(use_idf=True)\n",
    "X_train_tfidf = vectorizer.fit_transform(X_train)\n",
    "vocab=vectorizer.vocabulary_\n",
    "vectorizer = TfidfVectorizer(use_idf=True, vocabulary=vocab)\n",
    "X_test_tfidf = vectorizer.fit_transform(X_test)\n",
    "print(X_train_tfidf.shape)\n",
    "print(X_test_tfidf.shape)"
   ]
  },
  {
   "cell_type": "code",
   "execution_count": 12,
   "metadata": {},
   "outputs": [
    {
     "name": "stdout",
     "output_type": "stream",
     "text": [
      "(12530,)\n",
      "(3133,)\n"
     ]
    }
   ],
   "source": [
    "Encoder = LabelEncoder()\n",
    "Train_Y = Encoder.fit_transform(Y_train)\n",
    "Test_Y = Encoder.fit_transform(Y_test)\n",
    "print(Train_Y.shape)\n",
    "print(Test_Y.shape)"
   ]
  },
  {
   "cell_type": "code",
   "execution_count": 13,
   "metadata": {},
   "outputs": [
    {
     "name": "stdout",
     "output_type": "stream",
     "text": [
      "Confusion Matrix\n"
     ]
    },
    {
     "data": {
      "image/png": "[encoded data removed]",
      "text/plain": [
       "<Figure size 504x360 with 2 Axes>"
      ]
     },
     "metadata": {
      "needs_background": "light"
     },
     "output_type": "display_data"
    },
    {
     "name": "stdout",
     "output_type": "stream",
     "text": [
      "************************************************************************\n",
      "              precision    recall  f1-score   support\n",
      "\n",
      "           0       0.80      0.86      0.83      1244\n",
      "           1       0.85      0.80      0.82       908\n",
      "           2       0.84      0.81      0.82       981\n",
      "\n",
      "    accuracy                           0.83      3133\n",
      "   macro avg       0.83      0.82      0.83      3133\n",
      "weighted avg       0.83      0.83      0.83      3133\n",
      "\n",
      "************************************************************************\n",
      "Confusion Matrix\n"
     ]
    },
    {
     "data": {
      "image/png": "[encoded data removed]",
      "text/plain": [
       "<Figure size 504x360 with 2 Axes>"
      ]
     },
     "metadata": {
      "needs_background": "light"
     },
     "output_type": "display_data"
    },
    {
     "name": "stdout",
     "output_type": "stream",
     "text": [
      "************************************************************************\n",
      "              precision    recall  f1-score   support\n",
      "\n",
      "           0       0.80      0.84      0.82      1244\n",
      "           1       0.84      0.80      0.82       908\n",
      "           2       0.82      0.81      0.82       981\n",
      "\n",
      "    accuracy                           0.82      3133\n",
      "   macro avg       0.82      0.82      0.82      3133\n",
      "weighted avg       0.82      0.82      0.82      3133\n",
      "\n",
      "************************************************************************\n",
      "Confusion Matrix\n"
     ]
    },
    {
     "data": {
      "image/png": "[encoded data removed]",
      "text/plain": [
       "<Figure size 504x360 with 2 Axes>"
      ]
     },
     "metadata": {
      "needs_background": "light"
     },
     "output_type": "display_data"
    },
    {
     "name": "stdout",
     "output_type": "stream",
     "text": [
      "************************************************************************\n",
      "              precision    recall  f1-score   support\n",
      "\n",
      "           0       0.79      0.83      0.81      1244\n",
      "           1       0.83      0.79      0.81       908\n",
      "           2       0.82      0.80      0.81       981\n",
      "\n",
      "    accuracy                           0.81      3133\n",
      "   macro avg       0.81      0.81      0.81      3133\n",
      "weighted avg       0.81      0.81      0.81      3133\n",
      "\n",
      "************************************************************************\n",
      "Confusion Matrix\n"
     ]
    },
    {
     "data": {
      "image/png": "[encoded data removed]",
      "text/plain": [
       "<Figure size 504x360 with 2 Axes>"
      ]
     },
     "metadata": {
      "needs_background": "light"
     },
     "output_type": "display_data"
    },
    {
     "name": "stdout",
     "output_type": "stream",
     "text": [
      "************************************************************************\n",
      "              precision    recall  f1-score   support\n",
      "\n",
      "           0       0.78      0.83      0.80      1244\n",
      "           1       0.83      0.78      0.81       908\n",
      "           2       0.82      0.80      0.81       981\n",
      "\n",
      "    accuracy                           0.81      3133\n",
      "   macro avg       0.81      0.80      0.81      3133\n",
      "weighted avg       0.81      0.81      0.81      3133\n",
      "\n",
      "************************************************************************\n"
     ]
    }
   ],
   "source": [
    "from sklearn import metrics\n",
    "c_values=[1.0,2.0,3.0,4.0]\n",
    "accuracy_1=[]\n",
    "f1_score_1=[]\n",
    "for i in range(len(c_values)):\n",
    "    SVM = svm.SVC(C=c_values[i], kernel='linear', gamma='auto')\n",
    "    SVM.fit(X_train_tfidf,Train_Y)\n",
    "    predictions_SVM1 = SVM.predict(X_test_tfidf)\n",
    "    accuracy = metrics.accuracy_score(Test_Y, predictions_SVM1)\n",
    "    f1_Score = metrics.f1_score(Test_Y, predictions_SVM1,pos_label=1, average='macro')\n",
    "    accuracy_1.append(accuracy)\n",
    "    f1_score_1.append(f1_Score)\n",
    "\n",
    "    print(\"Confusion Matrix\");\n",
    "    cm=confusion_matrix(Test_Y, predictions_SVM1)\n",
    "    df_cm = pd.DataFrame(cm, index = [i for i in \"012\"],\n",
    "                  columns = [i for i in \"021\"])\n",
    "    plt.figure(figsize = (7,5))\n",
    "    sns.heatmap(df_cm, annot=True)\n",
    "    plt.show()\n",
    "    print(\"************************************************************************\")\n",
    "    print(cr(Test_Y , predictions_SVM1))\n",
    "    print(\"************************************************************************\")"
   ]
  },
  {
   "cell_type": "code",
   "execution_count": 14,
   "metadata": {},
   "outputs": [
    {
     "name": "stdout",
     "output_type": "stream",
     "text": [
      "[0.8260453239706351, 0.8177465687839132, 0.8104053622725822, 0.8062559846792212]\n",
      "[0.8255282420533622, 0.8175378525511162, 0.8105170392599456, 0.8064448876986793]\n"
     ]
    }
   ],
   "source": [
    "print(accuracy_1)\n",
    "print(f1_score_1)"
   ]
  },
  {
   "cell_type": "code",
   "execution_count": 15,
   "metadata": {},
   "outputs": [
    {
     "name": "stderr",
     "output_type": "stream",
     "text": [
      "D:\\Anaconda3\\lib\\site-packages\\sklearn\\metrics\\classification.py:1437: UndefinedMetricWarning: F-score is ill-defined and being set to 0.0 in labels with no predicted samples.\n",
      "  'precision', 'predicted', average, warn_for)\n"
     ]
    },
    {
     "name": "stdout",
     "output_type": "stream",
     "text": [
      "Confusion Matrix\n"
     ]
    },
    {
     "data": {
      "image/png": "[encoded data removed]",
      "text/plain": [
       "<Figure size 504x360 with 2 Axes>"
      ]
     },
     "metadata": {
      "needs_background": "light"
     },
     "output_type": "display_data"
    },
    {
     "name": "stdout",
     "output_type": "stream",
     "text": [
      "************************************************************************\n",
      "              precision    recall  f1-score   support\n",
      "\n",
      "           0       0.40      1.00      0.57      1244\n",
      "           1       0.00      0.00      0.00       908\n",
      "           2       0.00      0.00      0.00       981\n",
      "\n",
      "    accuracy                           0.40      3133\n",
      "   macro avg       0.13      0.33      0.19      3133\n",
      "weighted avg       0.16      0.40      0.23      3133\n",
      "\n",
      "************************************************************************\n"
     ]
    },
    {
     "name": "stderr",
     "output_type": "stream",
     "text": [
      "D:\\Anaconda3\\lib\\site-packages\\sklearn\\metrics\\classification.py:1437: UndefinedMetricWarning: Precision and F-score are ill-defined and being set to 0.0 in labels with no predicted samples.\n",
      "  'precision', 'predicted', average, warn_for)\n"
     ]
    },
    {
     "name": "stdout",
     "output_type": "stream",
     "text": [
      "Confusion Matrix\n"
     ]
    },
    {
     "data": {
      "image/png": "[encoded data removed]",
      "text/plain": [
       "<Figure size 504x360 with 2 Axes>"
      ]
     },
     "metadata": {
      "needs_background": "light"
     },
     "output_type": "display_data"
    },
    {
     "name": "stdout",
     "output_type": "stream",
     "text": [
      "************************************************************************\n",
      "              precision    recall  f1-score   support\n",
      "\n",
      "           0       0.40      1.00      0.57      1244\n",
      "           1       0.00      0.00      0.00       908\n",
      "           2       0.00      0.00      0.00       981\n",
      "\n",
      "    accuracy                           0.40      3133\n",
      "   macro avg       0.13      0.33      0.19      3133\n",
      "weighted avg       0.16      0.40      0.23      3133\n",
      "\n",
      "************************************************************************\n",
      "Confusion Matrix\n"
     ]
    },
    {
     "data": {
      "image/png": "[encoded data removed]",
      "text/plain": [
       "<Figure size 504x360 with 2 Axes>"
      ]
     },
     "metadata": {
      "needs_background": "light"
     },
     "output_type": "display_data"
    },
    {
     "name": "stdout",
     "output_type": "stream",
     "text": [
      "************************************************************************\n",
      "              precision    recall  f1-score   support\n",
      "\n",
      "           0       0.40      1.00      0.57      1244\n",
      "           1       0.00      0.00      0.00       908\n",
      "           2       0.00      0.00      0.00       981\n",
      "\n",
      "    accuracy                           0.40      3133\n",
      "   macro avg       0.13      0.33      0.19      3133\n",
      "weighted avg       0.16      0.40      0.23      3133\n",
      "\n",
      "************************************************************************\n",
      "Confusion Matrix\n"
     ]
    },
    {
     "data": {
      "image/png": "[encoded data removed]",
      "text/plain": [
       "<Figure size 504x360 with 2 Axes>"
      ]
     },
     "metadata": {
      "needs_background": "light"
     },
     "output_type": "display_data"
    },
    {
     "name": "stdout",
     "output_type": "stream",
     "text": [
      "************************************************************************\n",
      "              precision    recall  f1-score   support\n",
      "\n",
      "           0       0.40      1.00      0.57      1244\n",
      "           1       0.00      0.00      0.00       908\n",
      "           2       0.00      0.00      0.00       981\n",
      "\n",
      "    accuracy                           0.40      3133\n",
      "   macro avg       0.13      0.33      0.19      3133\n",
      "weighted avg       0.16      0.40      0.23      3133\n",
      "\n",
      "************************************************************************\n"
     ]
    }
   ],
   "source": [
    "from sklearn import metrics\n",
    "c_values=[1.0,2.0,3.0,4.0]\n",
    "accuracy_2=[]\n",
    "f1_score_2=[]\n",
    "for i in range(len(c_values)):\n",
    "    SVM = svm.SVC(C=c_values[i], kernel='poly', gamma='auto')\n",
    "    SVM.fit(X_train_tfidf,Train_Y)\n",
    "    predictions_SVM2 = SVM.predict(X_test_tfidf)\n",
    "    accuracy = metrics.accuracy_score(Test_Y, predictions_SVM2)\n",
    "    f1_Score = metrics.f1_score(Test_Y, predictions_SVM2,pos_label=1, average='macro')\n",
    "    #print(accuracy)\n",
    "    #print(f1_score)\n",
    "    accuracy_2.append(accuracy)\n",
    "    f1_score_2.append(f1_Score)\n",
    "    \n",
    "    print(\"Confusion Matrix\");\n",
    "    cm=confusion_matrix(Test_Y, predictions_SVM2)\n",
    "    df_cm = pd.DataFrame(cm, index = [i for i in \"012\"],\n",
    "                  columns = [i for i in \"021\"])\n",
    "    plt.figure(figsize = (7,5))\n",
    "    sns.heatmap(df_cm, annot=True)\n",
    "    plt.show()\n",
    "    print(\"************************************************************************\")\n",
    "    print(cr(Test_Y , predictions_SVM2))\n",
    "    print(\"************************************************************************\")"
   ]
  },
  {
   "cell_type": "code",
   "execution_count": 16,
   "metadata": {},
   "outputs": [
    {
     "name": "stdout",
     "output_type": "stream",
     "text": [
      "[0.3970635173954676, 0.3970635173954676, 0.3970635173954676, 0.3970635173954676]\n",
      "[0.18947528748762468, 0.18947528748762468, 0.18947528748762468, 0.18947528748762468]\n"
     ]
    }
   ],
   "source": [
    "print(accuracy_2)\n",
    "print(f1_score_2)"
   ]
  },
  {
   "cell_type": "code",
   "execution_count": 17,
   "metadata": {},
   "outputs": [
    {
     "name": "stdout",
     "output_type": "stream",
     "text": [
      "Confusion Matrix\n"
     ]
    },
    {
     "data": {
      "image/png": "[encoded data removed]",
      "text/plain": [
       "<Figure size 504x360 with 2 Axes>"
      ]
     },
     "metadata": {
      "needs_background": "light"
     },
     "output_type": "display_data"
    },
    {
     "name": "stdout",
     "output_type": "stream",
     "text": [
      "************************************************************************\n",
      "              precision    recall  f1-score   support\n",
      "\n",
      "           0       0.40      1.00      0.57      1244\n",
      "           1       0.00      0.00      0.00       908\n",
      "           2       0.00      0.00      0.00       981\n",
      "\n",
      "    accuracy                           0.40      3133\n",
      "   macro avg       0.13      0.33      0.19      3133\n",
      "weighted avg       0.16      0.40      0.23      3133\n",
      "\n",
      "************************************************************************\n",
      "Confusion Matrix\n"
     ]
    },
    {
     "data": {
      "image/png": "[encoded data removed]",
      "text/plain": [
       "<Figure size 504x360 with 2 Axes>"
      ]
     },
     "metadata": {
      "needs_background": "light"
     },
     "output_type": "display_data"
    },
    {
     "name": "stdout",
     "output_type": "stream",
     "text": [
      "************************************************************************\n",
      "              precision    recall  f1-score   support\n",
      "\n",
      "           0       0.40      1.00      0.57      1244\n",
      "           1       0.00      0.00      0.00       908\n",
      "           2       0.00      0.00      0.00       981\n",
      "\n",
      "    accuracy                           0.40      3133\n",
      "   macro avg       0.13      0.33      0.19      3133\n",
      "weighted avg       0.16      0.40      0.23      3133\n",
      "\n",
      "************************************************************************\n",
      "Confusion Matrix\n"
     ]
    },
    {
     "data": {
      "image/png": "[encoded data removed]",
      "text/plain": [
       "<Figure size 504x360 with 2 Axes>"
      ]
     },
     "metadata": {
      "needs_background": "light"
     },
     "output_type": "display_data"
    },
    {
     "name": "stdout",
     "output_type": "stream",
     "text": [
      "************************************************************************\n",
      "              precision    recall  f1-score   support\n",
      "\n",
      "           0       0.40      1.00      0.57      1244\n",
      "           1       0.00      0.00      0.00       908\n",
      "           2       0.00      0.00      0.00       981\n",
      "\n",
      "    accuracy                           0.40      3133\n",
      "   macro avg       0.13      0.33      0.19      3133\n",
      "weighted avg       0.16      0.40      0.23      3133\n",
      "\n",
      "************************************************************************\n",
      "Confusion Matrix\n"
     ]
    },
    {
     "data": {
      "image/png": "[encoded data removed]",
      "text/plain": [
       "<Figure size 504x360 with 2 Axes>"
      ]
     },
     "metadata": {
      "needs_background": "light"
     },
     "output_type": "display_data"
    },
    {
     "name": "stdout",
     "output_type": "stream",
     "text": [
      "************************************************************************\n",
      "              precision    recall  f1-score   support\n",
      "\n",
      "           0       0.40      1.00      0.57      1244\n",
      "           1       0.00      0.00      0.00       908\n",
      "           2       0.00      0.00      0.00       981\n",
      "\n",
      "    accuracy                           0.40      3133\n",
      "   macro avg       0.13      0.33      0.19      3133\n",
      "weighted avg       0.16      0.40      0.23      3133\n",
      "\n",
      "************************************************************************\n"
     ]
    }
   ],
   "source": [
    "from sklearn import metrics\n",
    "c_values=[1.0,2.0,3.0,4.0]\n",
    "accuracy_3=[]\n",
    "f1_score_3=[]\n",
    "for i in range(len(c_values)):\n",
    "    SVM = svm.SVC(C=c_values[i], kernel='rbf', gamma='auto')\n",
    "    SVM.fit(X_train_tfidf,Train_Y)\n",
    "    predictions_SVM3 = SVM.predict(X_test_tfidf)\n",
    "    accuracy = metrics.accuracy_score(Test_Y, predictions_SVM3)\n",
    "    f1_Score = metrics.f1_score(Test_Y, predictions_SVM3,pos_label=1, average='macro')\n",
    "    #print(accuracy)\n",
    "    #print(f1_score)\n",
    "    accuracy_3.append(accuracy)\n",
    "    f1_score_3.append(f1_Score)\n",
    "    \n",
    "    print(\"Confusion Matrix\");\n",
    "    cm=confusion_matrix(Test_Y, predictions_SVM3)\n",
    "    df_cm = pd.DataFrame(cm, index = [i for i in \"012\"],\n",
    "                  columns = [i for i in \"021\"])\n",
    "    plt.figure(figsize = (7,5))\n",
    "    sns.heatmap(df_cm, annot=True)\n",
    "    plt.show()\n",
    "    print(\"************************************************************************\")\n",
    "    print(cr(Test_Y , predictions_SVM3))\n",
    "    print(\"************************************************************************\")"
   ]
  },
  {
   "cell_type": "code",
   "execution_count": 18,
   "metadata": {},
   "outputs": [
    {
     "name": "stdout",
     "output_type": "stream",
     "text": [
      "[0.3970635173954676, 0.3970635173954676, 0.3970635173954676, 0.3970635173954676]\n",
      "[0.18947528748762468, 0.18947528748762468, 0.18947528748762468, 0.18947528748762468]\n"
     ]
    }
   ],
   "source": [
    "print(accuracy_3)\n",
    "print(f1_score_3)"
   ]
  },
  {
   "cell_type": "code",
   "execution_count": null,
   "metadata": {},
   "outputs": [],
   "source": []
  },
  {
   "cell_type": "code",
   "execution_count": null,
   "metadata": {},
   "outputs": [],
   "source": []
  },
  {
   "cell_type": "code",
   "execution_count": null,
   "metadata": {},
   "outputs": [],
   "source": []
  },
  {
   "cell_type": "code",
   "execution_count": null,
   "metadata": {},
   "outputs": [],
   "source": []
  },
  {
   "cell_type": "code",
   "execution_count": null,
   "metadata": {},
   "outputs": [],
   "source": []
  },
  {
   "cell_type": "code",
   "execution_count": null,
   "metadata": {},
   "outputs": [],
   "source": []
  },
  {
   "cell_type": "code",
   "execution_count": null,
   "metadata": {},
   "outputs": [],
   "source": []
  },
  {
   "cell_type": "code",
   "execution_count": null,
   "metadata": {},
   "outputs": [],
   "source": []
  },
  {
   "cell_type": "code",
   "execution_count": null,
   "metadata": {},
   "outputs": [],
   "source": []
  },
  {
   "cell_type": "code",
   "execution_count": null,
   "metadata": {},
   "outputs": [],
   "source": []
  },
  {
   "cell_type": "code",
   "execution_count": null,
   "metadata": {},
   "outputs": [],
   "source": []
  },
  {
   "cell_type": "code",
   "execution_count": null,
   "metadata": {},
   "outputs": [],
   "source": []
  },
  {
   "cell_type": "code",
   "execution_count": null,
   "metadata": {},
   "outputs": [],
   "source": []
  },
  {
   "cell_type": "code",
   "execution_count": null,
   "metadata": {},
   "outputs": [],
   "source": []
  }
 ],
 "metadata": {
  "kernelspec": {
   "display_name": "Python 3",
   "language": "python",
   "name": "python3"
  },
  "language_info": {
   "codemirror_mode": {
    "name": "ipython",
    "version": 3
   },
   "file_extension": ".py",
   "mimetype": "text/x-python",
   "name": "python",
   "nbconvert_exporter": "python",
   "pygments_lexer": "ipython3",
   "version": "3.7.4"
  }
 },
 "nbformat": 4,
 "nbformat_minor": 2
}
