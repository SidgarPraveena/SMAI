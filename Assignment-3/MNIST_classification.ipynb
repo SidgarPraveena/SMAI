{
 "cells": [
  {
   "cell_type": "markdown",
   "metadata": {},
   "source": [
    "# problem 3 report"
   ]
  },
  {
   "cell_type": "code",
   "execution_count": 1,
   "metadata": {},
   "outputs": [],
   "source": [
    "import torch\n",
    "import torchvision\n",
    "from torchvision import datasets\n",
    "import torchvision.transforms as transforms\n",
    "import matplotlib.pyplot as plt\n",
    "import numpy as np\n",
    "import torch.nn as nn\n",
    "import torch.nn.functional as F"
   ]
  },
  {
   "cell_type": "markdown",
   "metadata": {},
   "source": [
    "# MLP"
   ]
  },
  {
   "cell_type": "markdown",
   "metadata": {},
   "source": [
    "Reading data"
   ]
  },
  {
   "cell_type": "code",
   "execution_count": 2,
   "metadata": {},
   "outputs": [],
   "source": [
    "num_workers = 0\n",
    "batch_size = 20\n",
    "transform = transforms.ToTensor()\n",
    "train_data = datasets.MNIST(root='data', train=True,\n",
    "                                   download=True, transform=transform)\n",
    "test_data = datasets.MNIST(root='data', train=False,\n",
    "                                  download=True, transform=transform)\n",
    "\n",
    "trainloader = torch.utils.data.DataLoader(train_data, batch_size=batch_size,\n",
    "    num_workers=num_workers)\n",
    "valloader = torch.utils.data.DataLoader(test_data, batch_size=batch_size, \n",
    "    num_workers=num_workers)\n",
    "\n"
   ]
  },
  {
   "cell_type": "markdown",
   "metadata": {},
   "source": [
    "Lets print some datapoints"
   ]
  },
  {
   "cell_type": "code",
   "execution_count": 3,
   "metadata": {},
   "outputs": [
    {
     "data": {
      "image/png": "[encoded data removed]",
      "text/plain": [
       "<Figure size 1800x288 with 20 Axes>"
      ]
     },
     "metadata": {},
     "output_type": "display_data"
    }
   ],
   "source": [
    "dataiter = iter(trainloader)\n",
    "images, labels = dataiter.next()\n",
    "images = images.numpy()\n",
    "fig = plt.figure(figsize=(25, 4))\n",
    "for idx in np.arange(20):\n",
    "    ax = fig.add_subplot(2, 20/2, idx+1, xticks=[], yticks=[])\n",
    "    ax.imshow(np.squeeze(images[idx]), cmap='gray')\n",
    "    ax.set_title(str(labels[idx].item()))"
   ]
  },
  {
   "cell_type": "code",
   "execution_count": 4,
   "metadata": {},
   "outputs": [
    {
     "name": "stdout",
     "output_type": "stream",
     "text": [
      "Net(\n",
      "  (fc1): Linear(in_features=784, out_features=512, bias=True)\n",
      "  (fc2): Linear(in_features=512, out_features=512, bias=True)\n",
      "  (fc3): Linear(in_features=512, out_features=10, bias=True)\n",
      "  (dropout): Dropout(p=0.2, inplace=False)\n",
      ")\n"
     ]
    }
   ],
   "source": [
    "class Net(nn.Module):\n",
    "    def __init__(self):\n",
    "        super(Net, self).__init__()\n",
    "        self.fc1 = nn.Linear(28 * 28, 512)\n",
    "        self.fc2 = nn.Linear(512, 512)\n",
    "        self.fc3 = nn.Linear(512,10)\n",
    "        self.dropout = nn.Dropout(0.2)\n",
    "\n",
    "    def forward(self, x):\n",
    "        # flatten image input\n",
    "        x = x.view(-1, 28 * 28)\n",
    "        x = F.relu(self.fc1(x))\n",
    "        x = self.dropout(x)\n",
    "        x = F.relu(self.fc2(x))\n",
    "        x=self.dropout(x)\n",
    "        x = self.fc3(x)\n",
    "        return x\n",
    "\n",
    "# initialize the NN\n",
    "model = Net()\n",
    "print(model)"
   ]
  },
  {
   "cell_type": "code",
   "execution_count": 5,
   "metadata": {},
   "outputs": [],
   "source": [
    "criterion = nn.CrossEntropyLoss()\n",
    "optimizer = torch.optim.SGD(model.parameters(), lr=0.1)"
   ]
  },
  {
   "cell_type": "code",
   "execution_count": 6,
   "metadata": {},
   "outputs": [
    {
     "name": "stdout",
     "output_type": "stream",
     "text": [
      "Epoch: 1 \tTraining Loss: 0.290384\n",
      "Epoch: 2 \tTraining Loss: 0.113949\n",
      "Epoch: 3 \tTraining Loss: 0.080264\n",
      "Epoch: 4 \tTraining Loss: 0.061860\n",
      "Epoch: 5 \tTraining Loss: 0.050205\n",
      "Epoch: 6 \tTraining Loss: 0.041889\n",
      "Epoch: 7 \tTraining Loss: 0.036585\n",
      "Epoch: 8 \tTraining Loss: 0.032280\n",
      "Epoch: 9 \tTraining Loss: 0.026641\n",
      "Epoch: 10 \tTraining Loss: 0.025183\n",
      "Epoch: 11 \tTraining Loss: 0.022887\n",
      "Epoch: 12 \tTraining Loss: 0.020347\n",
      "Epoch: 13 \tTraining Loss: 0.017849\n",
      "Epoch: 14 \tTraining Loss: 0.017130\n",
      "Epoch: 15 \tTraining Loss: 0.014304\n",
      "Epoch: 16 \tTraining Loss: 0.014203\n",
      "Epoch: 17 \tTraining Loss: 0.012948\n",
      "Epoch: 18 \tTraining Loss: 0.013076\n",
      "Epoch: 19 \tTraining Loss: 0.013314\n",
      "Epoch: 20 \tTraining Loss: 0.010681\n",
      "Epoch: 21 \tTraining Loss: 0.012524\n",
      "Epoch: 22 \tTraining Loss: 0.010423\n",
      "Epoch: 23 \tTraining Loss: 0.011183\n",
      "Epoch: 24 \tTraining Loss: 0.008868\n",
      "Epoch: 25 \tTraining Loss: 0.008370\n",
      "Epoch: 26 \tTraining Loss: 0.007264\n",
      "Epoch: 27 \tTraining Loss: 0.007514\n",
      "Epoch: 28 \tTraining Loss: 0.006890\n",
      "Epoch: 29 \tTraining Loss: 0.007343\n",
      "Epoch: 30 \tTraining Loss: 0.007337\n"
     ]
    }
   ],
   "source": [
    "n_epochs = 30\n",
    "model.train() \n",
    "for epoch in range(n_epochs):\n",
    "    train_loss = 0.0\n",
    "    for data, target in trainloader:\n",
    "        optimizer.zero_grad()\n",
    "        output = model(data)\n",
    "        loss = criterion(output, target)\n",
    "        loss.backward()\n",
    "        optimizer.step()\n",
    "        train_loss += loss.item()*data.size(0)\n",
    "    train_loss = train_loss/len(trainloader.dataset)\n",
    "\n",
    "    print('Epoch: {} \\tTraining Loss: {:.6f}'.format(\n",
    "        epoch+1, \n",
    "        train_loss\n",
    "        ))"
   ]
  },
  {
   "cell_type": "code",
   "execution_count": 7,
   "metadata": {},
   "outputs": [
    {
     "name": "stdout",
     "output_type": "stream",
     "text": [
      "Test Loss: 0.072477\n",
      "\n",
      "Test Accuracy of     0: 99% (975/980)\n",
      "Test Accuracy of     1: 99% (1131/1135)\n",
      "Test Accuracy of     2: 97% (1007/1032)\n",
      "Test Accuracy of     3: 97% (989/1010)\n",
      "Test Accuracy of     4: 98% (963/982)\n",
      "Test Accuracy of     5: 99% (885/892)\n",
      "Test Accuracy of     6: 98% (948/958)\n",
      "Test Accuracy of     7: 98% (1008/1028)\n",
      "Test Accuracy of     8: 98% (955/974)\n",
      "Test Accuracy of     9: 98% (989/1009)\n",
      "\n",
      "Test Accuracy (Overall): 98% (9850/10000)\n"
     ]
    }
   ],
   "source": [
    "test_loss = 0.0\n",
    "class_correct = list(0. for i in range(10))\n",
    "class_total = list(0. for i in range(10))\n",
    "\n",
    "model.eval() # prep model for *evaluation*\n",
    "\n",
    "for data, target in valloader:\n",
    "    output = model(data)\n",
    "    loss = criterion(output, target)    \n",
    "    test_loss += loss.item()*data.size(0)\n",
    "    _, pred = torch.max(output, 1)\n",
    "    correct = np.squeeze(pred.eq(target.data.view_as(pred)))\n",
    "    for i in range(batch_size):\n",
    "        \n",
    "        label = target.data[i]\n",
    "        class_correct[label] += correct[i].item()\n",
    "        class_total[label] += 1\n",
    "\n",
    "test_loss = test_loss/len(valloader.dataset)\n",
    "print('Test Loss: {:.6f}\\n'.format(test_loss))\n",
    "\n",
    "for i in range(10):\n",
    "    if class_total[i] > 0:\n",
    "        print('Test Accuracy of %5s: %2d%% (%2d/%2d)' % (\n",
    "            str(i), 100 * class_correct[i] / class_total[i],\n",
    "            np.sum(class_correct[i]), np.sum(class_total[i])))\n",
    "    else:\n",
    "        print('Test Accuracy of %5s: N/A (no training examples)' % (classes[i]))\n",
    "\n",
    "print('\\nTest Accuracy (Overall): %2d%% (%2d/%2d)' % (\n",
    "    100. * np.sum(class_correct) / np.sum(class_total),\n",
    "    np.sum(class_correct), np.sum(class_total)))"
   ]
  },
  {
   "cell_type": "code",
   "execution_count": 8,
   "metadata": {},
   "outputs": [
    {
     "data": {
      "image/png": "[encoded data removed]",
      "text/plain": [
       "<Figure size 1800x288 with 20 Axes>"
      ]
     },
     "metadata": {},
     "output_type": "display_data"
    }
   ],
   "source": [
    "dataiter = iter(valloader)\n",
    "images, labels = dataiter.next()\n",
    "\n",
    "output = model(images)\n",
    "_, preds = torch.max(output, 1)\n",
    "images = images.numpy()\n",
    "\n",
    "fig = plt.figure(figsize=(25, 4))\n",
    "for idx in np.arange(20):\n",
    "    ax = fig.add_subplot(2, 20/2, idx+1, xticks=[], yticks=[])\n",
    "    ax.imshow(np.squeeze(images[idx]), cmap='gray')\n",
    "    ax.set_title(\"{} ({})\".format(str(preds[idx].item()), str(labels[idx].item())),\n",
    "                 color=(\"green\" if preds[idx]==labels[idx] else \"red\"))"
   ]
  },
  {
   "cell_type": "code",
   "execution_count": 9,
   "metadata": {},
   "outputs": [
    {
     "name": "stdout",
     "output_type": "stream",
     "text": [
      "Requirement already satisfied: python-mnist in d:\\anaconda3\\lib\\site-packages (0.7)\n"
     ]
    }
   ],
   "source": [
    "!pip install python-mnist"
   ]
  },
  {
   "cell_type": "markdown",
   "metadata": {},
   "source": [
    "# CNN"
   ]
  },
  {
   "cell_type": "code",
   "execution_count": 1,
   "metadata": {},
   "outputs": [],
   "source": [
    "from mnist import MNIST\n",
    "from torch.utils.data import DataLoader, Dataset, TensorDataset\n",
    "mnist = MNIST()\n",
    "X_train,y_train = mnist.load_training()\n",
    "X_test, y_test = mnist.load_testing()"
   ]
  },
  {
   "cell_type": "code",
   "execution_count": 8,
   "metadata": {},
   "outputs": [
    {
     "data": {
      "text/plain": [
       "60000"
      ]
     },
     "execution_count": 8,
     "metadata": {},
     "output_type": "execute_result"
    }
   ],
   "source": [
    "len(X_train)"
   ]
  },
  {
   "cell_type": "code",
   "execution_count": 23,
   "metadata": {},
   "outputs": [],
   "source": [
    "from mnist import MNIST\n",
    "from torch.utils.data import DataLoader, Dataset, TensorDataset\n",
    "mnist = MNIST()\n",
    "X_train,y_train = mnist.load_training()\n",
    "X_test, y_test = mnist.load_testing()\n",
    "X_train = torch.FloatTensor(X_train)\n",
    "X_train = X_train.to(dtype=torch.float32)\n",
    "X_train = X_train.reshape(X_train.size(0), -1) \n",
    "X_train = X_train/128\n",
    "y_train = torch.FloatTensor(y_train)\n",
    "y_train = y_train.to(dtype=torch.long)\n",
    "bs = 4\n",
    "X_test = torch.FloatTensor(X_test)\n",
    "X_test = X_test.to(dtype=torch.float32)\n",
    "X_test = X_test.reshape(X_test.size(0), -1) \n",
    "X_test = X_test/128\n",
    "y_test = torch.FloatTensor(y_test)\n",
    "y_test = y_test.to(dtype=torch.long)\n",
    "train_ds = TensorDataset(X_train, y_train)\n",
    "train_dl = DataLoader(train_ds, batch_size=bs, drop_last=False, shuffle=True)\n",
    "\n",
    "test_ds = TensorDataset(X_test, y_test)\n",
    "test_dl = DataLoader(test_ds, batch_size=bs * 2)\n",
    "\n",
    "loaders={}\n",
    "loaders['train'] = train_dl\n",
    "loaders['test'] = test_dl"
   ]
  },
  {
   "cell_type": "code",
   "execution_count": 11,
   "metadata": {},
   "outputs": [],
   "source": [
    "import torch.nn as nn\n",
    "import torch.nn.functional as F\n",
    "class Net(nn.Module):\n",
    "    def __init__(self):\n",
    "        super(Net, self).__init__()\n",
    "        self.conv1 = nn.Conv2d(1, 24, 5)\n",
    "        self.pool = nn.MaxPool2d(2, 2)\n",
    "        self.conv2 = nn.Conv2d(24, 48, 5)\n",
    "        self.fc1 = nn.Linear(48 * 4 * 4, 64)\n",
    "        self.fc2 = nn.Linear(64, 84)\n",
    "        self.fc3 = nn.Linear(84, 10)\n",
    "\n",
    "    def forward(self, x):\n",
    "        x = self.pool(F.relu(self.conv1(x)))\n",
    "        x = self.pool(F.relu(self.conv2(x)))\n",
    "        x = x.view(-1, 48 * 4 * 4)\n",
    "        x = F.relu(self.fc1(x))\n",
    "        x = F.relu(self.fc2(x))\n",
    "        x = self.fc3(x)\n",
    "        return x\n",
    "\n",
    "\n",
    "net = Net()"
   ]
  },
  {
   "cell_type": "code",
   "execution_count": 12,
   "metadata": {},
   "outputs": [],
   "source": [
    "import torch.optim as optim\n",
    "\n",
    "criterion = nn.CrossEntropyLoss()\n",
    "optimizer = optim.SGD(net.parameters(), lr=0.001, momentum=0.9)"
   ]
  },
  {
   "cell_type": "code",
   "execution_count": 13,
   "metadata": {},
   "outputs": [
    {
     "name": "stdout",
     "output_type": "stream",
     "text": [
      "[1,  2000] loss: 0.831\n",
      "[1,  4000] loss: 0.188\n",
      "[1,  6000] loss: 0.136\n",
      "[1,  8000] loss: 0.110\n",
      "[1, 10000] loss: 0.091\n",
      "[1, 12000] loss: 0.080\n",
      "[1, 14000] loss: 0.072\n",
      "[2,  2000] loss: 0.057\n",
      "[2,  4000] loss: 0.057\n",
      "[2,  6000] loss: 0.047\n",
      "[2,  8000] loss: 0.051\n",
      "[2, 10000] loss: 0.055\n",
      "[2, 12000] loss: 0.055\n",
      "[2, 14000] loss: 0.040\n",
      "[3,  2000] loss: 0.033\n",
      "[3,  4000] loss: 0.033\n",
      "[3,  6000] loss: 0.033\n",
      "[3,  8000] loss: 0.043\n",
      "[3, 10000] loss: 0.037\n",
      "[3, 12000] loss: 0.039\n",
      "[3, 14000] loss: 0.032\n",
      "[4,  2000] loss: 0.028\n",
      "[4,  4000] loss: 0.026\n",
      "[4,  6000] loss: 0.022\n",
      "[4,  8000] loss: 0.030\n",
      "[4, 10000] loss: 0.028\n",
      "[4, 12000] loss: 0.030\n",
      "[4, 14000] loss: 0.028\n",
      "[5,  2000] loss: 0.023\n",
      "[5,  4000] loss: 0.017\n",
      "[5,  6000] loss: 0.016\n",
      "[5,  8000] loss: 0.020\n",
      "[5, 10000] loss: 0.026\n",
      "[5, 12000] loss: 0.027\n",
      "[5, 14000] loss: 0.020\n",
      "[6,  2000] loss: 0.016\n",
      "[6,  4000] loss: 0.013\n",
      "[6,  6000] loss: 0.015\n",
      "[6,  8000] loss: 0.016\n",
      "[6, 10000] loss: 0.020\n",
      "[6, 12000] loss: 0.020\n",
      "[6, 14000] loss: 0.019\n",
      "[7,  2000] loss: 0.010\n",
      "[7,  4000] loss: 0.010\n",
      "[7,  6000] loss: 0.012\n",
      "[7,  8000] loss: 0.017\n",
      "[7, 10000] loss: 0.015\n",
      "[7, 12000] loss: 0.011\n",
      "[7, 14000] loss: 0.017\n",
      "[8,  2000] loss: 0.007\n",
      "[8,  4000] loss: 0.007\n",
      "[8,  6000] loss: 0.013\n",
      "[8,  8000] loss: 0.011\n",
      "[8, 10000] loss: 0.015\n",
      "[8, 12000] loss: 0.010\n",
      "[8, 14000] loss: 0.011\n",
      "[9,  2000] loss: 0.007\n",
      "[9,  4000] loss: 0.008\n",
      "[9,  6000] loss: 0.009\n",
      "[9,  8000] loss: 0.010\n",
      "[9, 10000] loss: 0.007\n",
      "[9, 12000] loss: 0.011\n",
      "[9, 14000] loss: 0.012\n",
      "[10,  2000] loss: 0.006\n",
      "[10,  4000] loss: 0.006\n",
      "[10,  6000] loss: 0.008\n",
      "[10,  8000] loss: 0.006\n",
      "[10, 10000] loss: 0.009\n",
      "[10, 12000] loss: 0.009\n",
      "[10, 14000] loss: 0.009\n",
      "Finished Training\n"
     ]
    }
   ],
   "source": [
    "import torch\n",
    "for epoch in range(10):\n",
    "    running_loss = 0.0\n",
    "    for i, (data,target) in enumerate(loaders['train']):\n",
    "        optimizer.zero_grad()\n",
    "        data = data.view(-1, 1, 28, 28)\n",
    "        outputs = net(data)\n",
    "        \n",
    "        loss = criterion(outputs, target)\n",
    "        loss.backward()\n",
    "        optimizer.step()\n",
    "\n",
    "        # print statistics\n",
    "        running_loss += loss.item()\n",
    "        if i % 2000 == 1999:    # print every 2000 mini-batches\n",
    "            print('[%d, %5d] loss: %.3f' %\n",
    "                  (epoch + 1, i + 1, running_loss / 2000))\n",
    "            running_loss = 0.0\n",
    "\n",
    "print('Finished Training')"
   ]
  },
  {
   "cell_type": "code",
   "execution_count": 14,
   "metadata": {},
   "outputs": [],
   "source": [
    "PATH = './mnist_net.pth'\n",
    "torch.save(net.state_dict(), PATH)"
   ]
  },
  {
   "cell_type": "code",
   "execution_count": 15,
   "metadata": {},
   "outputs": [],
   "source": [
    "dataiter = iter(loaders['test'])\n",
    "images, labels = dataiter.next()"
   ]
  },
  {
   "cell_type": "code",
   "execution_count": 16,
   "metadata": {},
   "outputs": [
    {
     "data": {
      "text/plain": [
       "<All keys matched successfully>"
      ]
     },
     "execution_count": 16,
     "metadata": {},
     "output_type": "execute_result"
    }
   ],
   "source": [
    "net = Net()\n",
    "net.load_state_dict(torch.load(PATH))"
   ]
  },
  {
   "cell_type": "code",
   "execution_count": 17,
   "metadata": {},
   "outputs": [],
   "source": [
    "images = images.view(-1, 1, 28, 28)\n",
    "outputs = net(images)"
   ]
  },
  {
   "cell_type": "code",
   "execution_count": 18,
   "metadata": {},
   "outputs": [
    {
     "name": "stdout",
     "output_type": "stream",
     "text": [
      "Accuracy of the network on the 10000 test images: 99.21 %\n"
     ]
    }
   ],
   "source": [
    "correct = 0\n",
    "total = 0\n",
    "with torch.no_grad():\n",
    "    for data in loaders['test']:\n",
    "        images, labels = data\n",
    "        images = images.view(-1,1,28,28)\n",
    "        outputs = net(images)\n",
    "        _, predicted = torch.max(outputs.data, 1)\n",
    "        total += labels.size(0)\n",
    "        correct += (predicted == labels).sum().item()\n",
    "\n",
    "print('Accuracy of the network on the 10000 test images: {} %'.format(\n",
    "    100 * correct / total))"
   ]
  },
  {
   "cell_type": "markdown",
   "metadata": {},
   "source": [
    "# SVM"
   ]
  },
  {
   "cell_type": "code",
   "execution_count": 19,
   "metadata": {},
   "outputs": [],
   "source": [
    "from mnist import MNIST\n",
    "import numpy as np\n",
    "mnist = MNIST()\n",
    "X_train,y_train = mnist.load_training()\n",
    "X_test, y_test = mnist.load_testing()"
   ]
  },
  {
   "cell_type": "code",
   "execution_count": 20,
   "metadata": {},
   "outputs": [],
   "source": [
    "from sklearn.preprocessing import MinMaxScaler\n",
    "scaler = MinMaxScaler()\n",
    "X_train = scaler.fit_transform(X_train)\n",
    "X_test = scaler.fit_transform(X_test)"
   ]
  },
  {
   "cell_type": "code",
   "execution_count": 21,
   "metadata": {},
   "outputs": [
    {
     "name": "stderr",
     "output_type": "stream",
     "text": [
      "D:\\Anaconda3\\lib\\site-packages\\sklearn\\svm\\base.py:193: FutureWarning: The default value of gamma will change from 'auto' to 'scale' in version 0.22 to account better for unscaled features. Set gamma explicitly to 'auto' or 'scale' to avoid this warning.\n",
      "  \"avoid this warning.\", FutureWarning)\n"
     ]
    }
   ],
   "source": [
    "from sklearn.svm import SVC\n",
    "svm  = SVC(C=10)\n",
    "svm.fit(X_train, y_train)\n",
    "predictions = svm.predict(X_test)"
   ]
  },
  {
   "cell_type": "code",
   "execution_count": 22,
   "metadata": {},
   "outputs": [
    {
     "data": {
      "text/plain": [
       "0.9614"
      ]
     },
     "execution_count": 22,
     "metadata": {},
     "output_type": "execute_result"
    }
   ],
   "source": [
    "from sklearn.metrics import accuracy_score\n",
    "accuracy_score(np.array(y_test), np.array(predictions))"
   ]
  },
  {
   "cell_type": "code",
   "execution_count": 24,
   "metadata": {},
   "outputs": [
    {
     "name": "stderr",
     "output_type": "stream",
     "text": [
      "[NbConvertApp] Converting notebook q3.ipynb to html\n",
      "[NbConvertApp] Writing 383718 bytes to q3.html\n"
     ]
    }
   ],
   "source": [
    "!jupyter nbconvert --to html q3.ipynb"
   ]
  },
  {
   "cell_type": "code",
   "execution_count": null,
   "metadata": {},
   "outputs": [],
   "source": []
  },
  {
   "cell_type": "code",
   "execution_count": null,
   "metadata": {},
   "outputs": [],
   "source": []
  }
 ],
 "metadata": {
  "kernelspec": {
   "display_name": "Python 3",
   "language": "python",
   "name": "python3"
  },
  "language_info": {
   "codemirror_mode": {
    "name": "ipython",
    "version": 3
   },
   "file_extension": ".py",
   "mimetype": "text/x-python",
   "name": "python",
   "nbconvert_exporter": "python",
   "pygments_lexer": "ipython3",
   "version": "3.7.4"
  }
 },
 "nbformat": 4,
 "nbformat_minor": 2
}
