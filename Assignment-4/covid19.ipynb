{
  "nbformat": 4,
  "nbformat_minor": 0,
  "metadata": {
    "colab": {
      "name": "Untitled0.ipynb",
      "provenance": []
    },
    "kernelspec": {
      "name": "python3",
      "display_name": "Python 3"
    }
  },
  "cells": [
    {
      "cell_type": "code",
      "metadata": {
        "id": "LhNOinePSbzI",
        "colab_type": "code",
        "outputId": "47579ff2-e24b-44bb-ad03-6e7d5caef3e4",
        "colab": {
          "base_uri": "https://localhost:8080/",
          "height": 121
        }
      },
      "source": [
        "from google.colab import drive\n",
        "drive.mount('/content/drive')"
      ],
      "execution_count": 1,
      "outputs": [
        {
          "output_type": "stream",
          "text": [
            "Go to this URL in a browser: https://accounts.google.com/o/oauth2/auth?client_id=947318989803-6bn6qk8qdgf4n4g3pfee6491hc0brc4i.apps.googleusercontent.com&redirect_uri=urn%3aietf%3awg%3aoauth%3a2.0%3aoob&response_type=code&scope=email%20https%3a%2f%2fwww.googleapis.com%2fauth%2fdocs.test%20https%3a%2f%2fwww.googleapis.com%2fauth%2fdrive%20https%3a%2f%2fwww.googleapis.com%2fauth%2fdrive.photos.readonly%20https%3a%2f%2fwww.googleapis.com%2fauth%2fpeopleapi.readonly\n",
            "\n",
            "Enter your authorization code:\n",
            "··········\n",
            "Mounted at /content/drive\n"
          ],
          "name": "stdout"
        }
      ]
    },
    {
      "cell_type": "code",
      "metadata": {
        "id": "pLr38Wa3Uj9t",
        "colab_type": "code",
        "outputId": "ab55b1d3-6524-4320-9ee2-2225fbccc3bd",
        "colab": {
          "base_uri": "https://localhost:8080/",
          "height": 168
        }
      },
      "source": [
        "import sys\n",
        "import os\n",
        "import requests\n",
        "import subprocess\n",
        "import shutil\n",
        "from logging import getLogger, StreamHandler, INFO\n",
        "\n",
        "\n",
        "logger = getLogger(__name__)\n",
        "logger.addHandler(StreamHandler())\n",
        "logger.setLevel(INFO)\n",
        "\n",
        "\n",
        "def install(\n",
        "        chunk_size=4096,\n",
        "        file_name=\"Miniconda3-latest-Linux-x86_64.sh\",\n",
        "        url_base=\"https://repo.continuum.io/miniconda/\",\n",
        "        conda_path=os.path.expanduser(os.path.join(\"~\", \"miniconda\")),\n",
        "        rdkit_version=None,\n",
        "        add_python_path=True,\n",
        "        force=False):\n",
        "    \"\"\"install rdkit from miniconda\n",
        "    ```\n",
        "    import rdkit_installer\n",
        "    rdkit_installer.install()\n",
        "    ```\n",
        "    \"\"\"\n",
        "\n",
        "    python_path = os.path.join(\n",
        "        conda_path,\n",
        "        \"lib\",\n",
        "        \"python{0}.{1}\".format(*sys.version_info),\n",
        "        \"site-packages\",\n",
        "    )\n",
        "\n",
        "    if add_python_path and python_path not in sys.path:\n",
        "        logger.info(\"add {} to PYTHONPATH\".format(python_path))\n",
        "        sys.path.append(python_path)\n",
        "\n",
        "    if os.path.isdir(os.path.join(python_path, \"rdkit\")):\n",
        "        logger.info(\"rdkit is already installed\")\n",
        "        if not force:\n",
        "            return\n",
        "\n",
        "        logger.info(\"force re-install\")\n",
        "\n",
        "    url = url_base + file_name\n",
        "    python_version = \"{0}.{1}.{2}\".format(*sys.version_info)\n",
        "\n",
        "    logger.info(\"python version: {}\".format(python_version))\n",
        "\n",
        "    if os.path.isdir(conda_path):\n",
        "        logger.warning(\"remove current miniconda\")\n",
        "        shutil.rmtree(conda_path)\n",
        "    elif os.path.isfile(conda_path):\n",
        "        logger.warning(\"remove {}\".format(conda_path))\n",
        "        os.remove(conda_path)\n",
        "\n",
        "    logger.info('fetching installer from {}'.format(url))\n",
        "    res = requests.get(url, stream=True)\n",
        "    res.raise_for_status()\n",
        "    with open(file_name, 'wb') as f:\n",
        "        for chunk in res.iter_content(chunk_size):\n",
        "            f.write(chunk)\n",
        "    logger.info('done')\n",
        "\n",
        "    logger.info('installing miniconda to {}'.format(conda_path))\n",
        "    subprocess.check_call([\"bash\", file_name, \"-b\", \"-p\", conda_path])\n",
        "    logger.info('done')\n",
        "\n",
        "    logger.info(\"installing rdkit\")\n",
        "    subprocess.check_call([\n",
        "        os.path.join(conda_path, \"bin\", \"conda\"),\n",
        "        \"install\",\n",
        "        \"--yes\",\n",
        "        \"-c\", \"rdkit\",\n",
        "        \"python=={}\".format(python_version),\n",
        "        \"rdkit\" if rdkit_version is None else \"rdkit=={}\".format(rdkit_version)])\n",
        "    logger.info(\"done\")\n",
        "\n",
        "    import rdkit\n",
        "    logger.info(\"rdkit-{} installation finished!\".format(rdkit.__version__))\n",
        "\n",
        "\n",
        "if __name__ == \"__main__\":\n",
        "    install()"
      ],
      "execution_count": 2,
      "outputs": [
        {
          "output_type": "stream",
          "text": [
            "add /root/miniconda/lib/python3.6/site-packages to PYTHONPATH\n",
            "python version: 3.6.9\n",
            "fetching installer from https://repo.continuum.io/miniconda/Miniconda3-latest-Linux-x86_64.sh\n",
            "done\n",
            "installing miniconda to /root/miniconda\n",
            "done\n",
            "installing rdkit\n",
            "done\n",
            "rdkit-2020.03.1 installation finished!\n"
          ],
          "name": "stderr"
        }
      ]
    },
    {
      "cell_type": "code",
      "metadata": {
        "id": "MWub3xztUkAQ",
        "colab_type": "code",
        "outputId": "a27964b8-5cb2-4149-a35f-9fd5141b30f5",
        "colab": {
          "base_uri": "https://localhost:8080/",
          "height": 823
        }
      },
      "source": [
        "!pip install git+https://github.com/samoturk/mol2vec;"
      ],
      "execution_count": 3,
      "outputs": [
        {
          "output_type": "stream",
          "text": [
            "Collecting git+https://github.com/samoturk/mol2vec\n",
            "  Cloning https://github.com/samoturk/mol2vec to /tmp/pip-req-build-rsxv5gq1\n",
            "  Running command git clone -q https://github.com/samoturk/mol2vec /tmp/pip-req-build-rsxv5gq1\n",
            "Requirement already satisfied: numpy in /usr/local/lib/python3.6/dist-packages (from mol2vec==0.1) (1.18.3)\n",
            "Requirement already satisfied: gensim in /usr/local/lib/python3.6/dist-packages (from mol2vec==0.1) (3.6.0)\n",
            "Requirement already satisfied: tqdm in /usr/local/lib/python3.6/dist-packages (from mol2vec==0.1) (4.38.0)\n",
            "Requirement already satisfied: joblib in /usr/local/lib/python3.6/dist-packages (from mol2vec==0.1) (0.14.1)\n",
            "Requirement already satisfied: pandas in /usr/local/lib/python3.6/dist-packages (from mol2vec==0.1) (1.0.3)\n",
            "Requirement already satisfied: matplotlib in /usr/local/lib/python3.6/dist-packages (from mol2vec==0.1) (3.2.1)\n",
            "Requirement already satisfied: IPython in /usr/local/lib/python3.6/dist-packages (from mol2vec==0.1) (5.5.0)\n",
            "Requirement already satisfied: seaborn in /usr/local/lib/python3.6/dist-packages (from mol2vec==0.1) (0.10.1)\n",
            "Requirement already satisfied: smart-open>=1.2.1 in /usr/local/lib/python3.6/dist-packages (from gensim->mol2vec==0.1) (2.0.0)\n",
            "Requirement already satisfied: six>=1.5.0 in /usr/local/lib/python3.6/dist-packages (from gensim->mol2vec==0.1) (1.12.0)\n",
            "Requirement already satisfied: scipy>=0.18.1 in /usr/local/lib/python3.6/dist-packages (from gensim->mol2vec==0.1) (1.4.1)\n",
            "Requirement already satisfied: pytz>=2017.2 in /usr/local/lib/python3.6/dist-packages (from pandas->mol2vec==0.1) (2018.9)\n",
            "Requirement already satisfied: python-dateutil>=2.6.1 in /usr/local/lib/python3.6/dist-packages (from pandas->mol2vec==0.1) (2.8.1)\n",
            "Requirement already satisfied: kiwisolver>=1.0.1 in /usr/local/lib/python3.6/dist-packages (from matplotlib->mol2vec==0.1) (1.2.0)\n",
            "Requirement already satisfied: pyparsing!=2.0.4,!=2.1.2,!=2.1.6,>=2.0.1 in /usr/local/lib/python3.6/dist-packages (from matplotlib->mol2vec==0.1) (2.4.7)\n",
            "Requirement already satisfied: cycler>=0.10 in /usr/local/lib/python3.6/dist-packages (from matplotlib->mol2vec==0.1) (0.10.0)\n",
            "Requirement already satisfied: decorator in /usr/local/lib/python3.6/dist-packages (from IPython->mol2vec==0.1) (4.4.2)\n",
            "Requirement already satisfied: prompt-toolkit<2.0.0,>=1.0.4 in /usr/local/lib/python3.6/dist-packages (from IPython->mol2vec==0.1) (1.0.18)\n",
            "Requirement already satisfied: setuptools>=18.5 in /usr/local/lib/python3.6/dist-packages (from IPython->mol2vec==0.1) (46.1.3)\n",
            "Requirement already satisfied: pygments in /usr/local/lib/python3.6/dist-packages (from IPython->mol2vec==0.1) (2.1.3)\n",
            "Requirement already satisfied: traitlets>=4.2 in /usr/local/lib/python3.6/dist-packages (from IPython->mol2vec==0.1) (4.3.3)\n",
            "Requirement already satisfied: simplegeneric>0.8 in /usr/local/lib/python3.6/dist-packages (from IPython->mol2vec==0.1) (0.8.1)\n",
            "Requirement already satisfied: pickleshare in /usr/local/lib/python3.6/dist-packages (from IPython->mol2vec==0.1) (0.7.5)\n",
            "Requirement already satisfied: pexpect; sys_platform != \"win32\" in /usr/local/lib/python3.6/dist-packages (from IPython->mol2vec==0.1) (4.8.0)\n",
            "Requirement already satisfied: requests in /usr/local/lib/python3.6/dist-packages (from smart-open>=1.2.1->gensim->mol2vec==0.1) (2.23.0)\n",
            "Requirement already satisfied: boto in /usr/local/lib/python3.6/dist-packages (from smart-open>=1.2.1->gensim->mol2vec==0.1) (2.49.0)\n",
            "Requirement already satisfied: boto3 in /usr/local/lib/python3.6/dist-packages (from smart-open>=1.2.1->gensim->mol2vec==0.1) (1.13.1)\n",
            "Requirement already satisfied: wcwidth in /usr/local/lib/python3.6/dist-packages (from prompt-toolkit<2.0.0,>=1.0.4->IPython->mol2vec==0.1) (0.1.9)\n",
            "Requirement already satisfied: ipython-genutils in /usr/local/lib/python3.6/dist-packages (from traitlets>=4.2->IPython->mol2vec==0.1) (0.2.0)\n",
            "Requirement already satisfied: ptyprocess>=0.5 in /usr/local/lib/python3.6/dist-packages (from pexpect; sys_platform != \"win32\"->IPython->mol2vec==0.1) (0.6.0)\n",
            "Requirement already satisfied: chardet<4,>=3.0.2 in /usr/local/lib/python3.6/dist-packages (from requests->smart-open>=1.2.1->gensim->mol2vec==0.1) (3.0.4)\n",
            "Requirement already satisfied: idna<3,>=2.5 in /usr/local/lib/python3.6/dist-packages (from requests->smart-open>=1.2.1->gensim->mol2vec==0.1) (2.9)\n",
            "Requirement already satisfied: urllib3!=1.25.0,!=1.25.1,<1.26,>=1.21.1 in /usr/local/lib/python3.6/dist-packages (from requests->smart-open>=1.2.1->gensim->mol2vec==0.1) (1.24.3)\n",
            "Requirement already satisfied: certifi>=2017.4.17 in /usr/local/lib/python3.6/dist-packages (from requests->smart-open>=1.2.1->gensim->mol2vec==0.1) (2020.4.5.1)\n",
            "Requirement already satisfied: botocore<1.17.0,>=1.16.1 in /usr/local/lib/python3.6/dist-packages (from boto3->smart-open>=1.2.1->gensim->mol2vec==0.1) (1.16.1)\n",
            "Requirement already satisfied: jmespath<1.0.0,>=0.7.1 in /usr/local/lib/python3.6/dist-packages (from boto3->smart-open>=1.2.1->gensim->mol2vec==0.1) (0.9.5)\n",
            "Requirement already satisfied: s3transfer<0.4.0,>=0.3.0 in /usr/local/lib/python3.6/dist-packages (from boto3->smart-open>=1.2.1->gensim->mol2vec==0.1) (0.3.3)\n",
            "Requirement already satisfied: docutils<0.16,>=0.10 in /usr/local/lib/python3.6/dist-packages (from botocore<1.17.0,>=1.16.1->boto3->smart-open>=1.2.1->gensim->mol2vec==0.1) (0.15.2)\n",
            "Building wheels for collected packages: mol2vec\n",
            "  Building wheel for mol2vec (setup.py) ... \u001b[?25l\u001b[?25hdone\n",
            "  Created wheel for mol2vec: filename=mol2vec-0.1-cp36-none-any.whl size=14026 sha256=604fee6539b72a61094bd38253dde08c8bcd2351da4f21a070a6ce67461639b3\n",
            "  Stored in directory: /tmp/pip-ephem-wheel-cache-czm2ocon/wheels/96/0f/2d/a1092b9677c96453dc244b209544cac61bc8b974cbffb50063\n",
            "Successfully built mol2vec\n",
            "Installing collected packages: mol2vec\n",
            "Successfully installed mol2vec-0.1\n"
          ],
          "name": "stdout"
        }
      ]
    },
    {
      "cell_type": "code",
      "metadata": {
        "id": "yYkAOQTLsgxf",
        "colab_type": "code",
        "colab": {}
      },
      "source": [
        "import numpy as np\n",
        "import pandas as pd"
      ],
      "execution_count": 0,
      "outputs": []
    },
    {
      "cell_type": "code",
      "metadata": {
        "id": "MuN8yMp0dTkO",
        "colab_type": "code",
        "colab": {}
      },
      "source": [
        "train_data =  pd.read_csv('/content/drive/My Drive/smai_assign4/q3/train.csv')"
      ],
      "execution_count": 0,
      "outputs": []
    },
    {
      "cell_type": "code",
      "metadata": {
        "id": "veHx3LHqdTm7",
        "colab_type": "code",
        "outputId": "5bec2b7e-c080-46bb-cce8-a4f06da0110b",
        "colab": {
          "base_uri": "https://localhost:8080/",
          "height": 195
        }
      },
      "source": [
        "train_data.head()"
      ],
      "execution_count": 6,
      "outputs": [
        {
          "output_type": "execute_result",
          "data": {
            "text/html": [
              "<div>\n",
              "<style scoped>\n",
              "    .dataframe tbody tr th:only-of-type {\n",
              "        vertical-align: middle;\n",
              "    }\n",
              "\n",
              "    .dataframe tbody tr th {\n",
              "        vertical-align: top;\n",
              "    }\n",
              "\n",
              "    .dataframe thead th {\n",
              "        text-align: right;\n",
              "    }\n",
              "</style>\n",
              "<table border=\"1\" class=\"dataframe\">\n",
              "  <thead>\n",
              "    <tr style=\"text-align: right;\">\n",
              "      <th></th>\n",
              "      <th>SMILES sequence</th>\n",
              "      <th>Binding Affinity</th>\n",
              "    </tr>\n",
              "  </thead>\n",
              "  <tbody>\n",
              "    <tr>\n",
              "      <th>0</th>\n",
              "      <td>CCNC(C)C(NC)c1ccccc1</td>\n",
              "      <td>-18.0861</td>\n",
              "    </tr>\n",
              "    <tr>\n",
              "      <th>1</th>\n",
              "      <td>CONC(=O)c1cncnc1</td>\n",
              "      <td>-17.5783</td>\n",
              "    </tr>\n",
              "    <tr>\n",
              "      <th>2</th>\n",
              "      <td>CCNC1CCCN(Cc2ccsc2)C1</td>\n",
              "      <td>-20.3645</td>\n",
              "    </tr>\n",
              "    <tr>\n",
              "      <th>3</th>\n",
              "      <td>CC(NC(=O)CSCCN)c1ccccc1</td>\n",
              "      <td>-19.3144</td>\n",
              "    </tr>\n",
              "    <tr>\n",
              "      <th>4</th>\n",
              "      <td>CCC(CS)CN(C)c1ccccc1</td>\n",
              "      <td>-15.8451</td>\n",
              "    </tr>\n",
              "  </tbody>\n",
              "</table>\n",
              "</div>"
            ],
            "text/plain": [
              "           SMILES sequence  Binding Affinity\n",
              "0     CCNC(C)C(NC)c1ccccc1          -18.0861\n",
              "1         CONC(=O)c1cncnc1          -17.5783\n",
              "2    CCNC1CCCN(Cc2ccsc2)C1          -20.3645\n",
              "3  CC(NC(=O)CSCCN)c1ccccc1          -19.3144\n",
              "4     CCC(CS)CN(C)c1ccccc1          -15.8451"
            ]
          },
          "metadata": {
            "tags": []
          },
          "execution_count": 6
        }
      ]
    },
    {
      "cell_type": "code",
      "metadata": {
        "id": "IF-rN_FOdTpi",
        "colab_type": "code",
        "outputId": "98b871f5-2fc2-45b8-b00c-9e4bf269c6f2",
        "colab": {
          "base_uri": "https://localhost:8080/",
          "height": 50
        }
      },
      "source": [
        "train_aff = train_data['Binding Affinity']\n",
        "train_data.drop(columns='Binding Affinity',inplace=True)\n",
        "print(train_aff.shape)\n",
        "print(train_data.shape)"
      ],
      "execution_count": 7,
      "outputs": [
        {
          "output_type": "stream",
          "text": [
            "(9000,)\n",
            "(9000, 1)\n"
          ],
          "name": "stdout"
        }
      ]
    },
    {
      "cell_type": "code",
      "metadata": {
        "id": "lJWTCC1EdTr8",
        "colab_type": "code",
        "colab": {}
      },
      "source": [
        "from rdkit import Chem "
      ],
      "execution_count": 0,
      "outputs": []
    },
    {
      "cell_type": "code",
      "metadata": {
        "id": "2ySgpjL5jKE9",
        "colab_type": "code",
        "outputId": "ffeb7f41-037e-4bfa-fc62-aeff7d1a7ee7",
        "colab": {
          "base_uri": "https://localhost:8080/",
          "height": 34
        }
      },
      "source": [
        "train_data['mol'] = train_data['SMILES sequence'].apply(lambda x: Chem.MolFromSmiles(x))\n",
        "print(type(train_data['mol'][0]))"
      ],
      "execution_count": 9,
      "outputs": [
        {
          "output_type": "stream",
          "text": [
            "<class 'rdkit.Chem.rdchem.Mol'>\n"
          ],
          "name": "stdout"
        }
      ]
    },
    {
      "cell_type": "code",
      "metadata": {
        "id": "YvujE90fjKHw",
        "colab_type": "code",
        "outputId": "ff6315d3-3144-4647-d834-51a38a56ac46",
        "colab": {
          "base_uri": "https://localhost:8080/",
          "height": 134
        }
      },
      "source": [
        "print(train_data.shape)\n",
        "print(train_data.head(5))"
      ],
      "execution_count": 10,
      "outputs": [
        {
          "output_type": "stream",
          "text": [
            "(9000, 2)\n",
            "           SMILES sequence                                               mol\n",
            "0     CCNC(C)C(NC)c1ccccc1  <rdkit.Chem.rdchem.Mol object at 0x7f4b43995e90>\n",
            "1         CONC(=O)c1cncnc1  <rdkit.Chem.rdchem.Mol object at 0x7f4b43995ee0>\n",
            "2    CCNC1CCCN(Cc2ccsc2)C1  <rdkit.Chem.rdchem.Mol object at 0x7f4b43995f30>\n",
            "3  CC(NC(=O)CSCCN)c1ccccc1  <rdkit.Chem.rdchem.Mol object at 0x7f4b43995f80>\n",
            "4     CCC(CS)CN(C)c1ccccc1  <rdkit.Chem.rdchem.Mol object at 0x7f4b439a3030>\n"
          ],
          "name": "stdout"
        }
      ]
    },
    {
      "cell_type": "code",
      "metadata": {
        "id": "wZEbjcuijKNP",
        "colab_type": "code",
        "outputId": "3aa5f553-d54c-438d-85de-d0e348b0f4ed",
        "colab": {
          "base_uri": "https://localhost:8080/",
          "height": 134
        }
      },
      "source": [
        "test_data = pd.read_csv('/content/drive/My Drive/smai_assign4/q3/test.csv')\n",
        "test_data.drop(columns='Binding Affinity',inplace=True)\n",
        "print(test_data.shape)\n",
        "print(test_data.head(5));"
      ],
      "execution_count": 11,
      "outputs": [
        {
          "output_type": "stream",
          "text": [
            "(2500, 1)\n",
            "        SMILES sequence\n",
            "0  Cc1ccc(C2CNCCN2C)cc1\n",
            "1      CCOC(CO)c1ccccc1\n",
            "2     CC(=O)Nc1cnn(C)n1\n",
            "3      CCC(C)NCc1ncccn1\n",
            "4       CC(C)=C1CC(N)C1\n"
          ],
          "name": "stdout"
        }
      ]
    },
    {
      "cell_type": "code",
      "metadata": {
        "id": "gL6e4e_ijKKT",
        "colab_type": "code",
        "outputId": "c6f18b5c-1e9c-4f8e-e35d-a454f737ba18",
        "colab": {
          "base_uri": "https://localhost:8080/",
          "height": 70
        }
      },
      "source": [
        "from gensim.models import word2vec\n",
        "model = word2vec.Word2Vec.load('/content/drive/My Drive/smai_assign4/q3/model_300dim.pkl')"
      ],
      "execution_count": 12,
      "outputs": [
        {
          "output_type": "stream",
          "text": [
            "/usr/local/lib/python3.6/dist-packages/smart_open/smart_open_lib.py:253: UserWarning: This function is deprecated, use smart_open.open instead. See the migration notes for details: https://github.com/RaRe-Technologies/smart_open/blob/master/README.rst#migrating-to-the-new-open-function\n",
            "  'See the migration notes for details: %s' % _MIGRATION_NOTES_URL\n"
          ],
          "name": "stderr"
        }
      ]
    },
    {
      "cell_type": "code",
      "metadata": {
        "id": "iiEzxvBvjKPu",
        "colab_type": "code",
        "colab": {}
      },
      "source": [
        "from mol2vec.features import mol2alt_sentence, mol2sentence, MolSentence, DfVec, sentences2vec\n",
        "from gensim.models import word2vec"
      ],
      "execution_count": 0,
      "outputs": []
    },
    {
      "cell_type": "code",
      "metadata": {
        "id": "COu6I6Z3jKSG",
        "colab_type": "code",
        "outputId": "e8e7f1ac-03c2-4812-d5bf-46c8160f6ae2",
        "colab": {
          "base_uri": "https://localhost:8080/",
          "height": 121
        }
      },
      "source": [
        "print('Molecular sentence:', mol2alt_sentence(train_data['mol'][1], radius=1))\n",
        "print('\\nMolSentence object:', MolSentence(mol2alt_sentence(train_data['mol'][1], radius=1)))\n",
        "print('\\nDfVec object:',DfVec(sentences2vec(MolSentence(mol2alt_sentence(train_data['mol'][1], radius=1)), model, unseen='UNK')))"
      ],
      "execution_count": 14,
      "outputs": [
        {
          "output_type": "stream",
          "text": [
            "Molecular sentence: ['2246728737', '3975275337', '864674487', '903112553', '847961216', '2204949651', '2246699815', '1054767590', '864942730', '1510328189', '3217380708', '2994748777', '3218693969', '3777168895', '2041434490', '3118255683', '3218693969', '725322217', '2041434490', '3118255683', '3218693969', '3777168895']\n",
            "\n",
            "MolSentence object: MolSentence with 22 words\n",
            "\n",
            "DfVec object: (22, 300) dimensional vector\n"
          ],
          "name": "stdout"
        }
      ]
    },
    {
      "cell_type": "code",
      "metadata": {
        "id": "f99-9MITjKUj",
        "colab_type": "code",
        "colab": {}
      },
      "source": [
        "train_data['sentence'] = train_data.apply(lambda x: MolSentence(mol2alt_sentence(x['mol'], 1)), axis=1)"
      ],
      "execution_count": 0,
      "outputs": []
    },
    {
      "cell_type": "code",
      "metadata": {
        "id": "jmcA4ckjjKXD",
        "colab_type": "code",
        "outputId": "5ea91bd6-9187-47f1-f336-701f7a570a33",
        "colab": {
          "base_uri": "https://localhost:8080/",
          "height": 50
        }
      },
      "source": [
        "train_data['mol2vec'] = [DfVec(x) for x in sentences2vec(train_data['sentence'], model, unseen='UNK')]\n",
        "X = np.array([x.vec for x in train_data['mol2vec']])\n",
        "y = train_aff.values\n",
        "\n",
        "print(X.shape)\n",
        "print(len(y))"
      ],
      "execution_count": 16,
      "outputs": [
        {
          "output_type": "stream",
          "text": [
            "(9000, 300)\n",
            "9000\n"
          ],
          "name": "stdout"
        }
      ]
    },
    {
      "cell_type": "code",
      "metadata": {
        "id": "rWh7dSQ2jKZe",
        "colab_type": "code",
        "colab": {}
      },
      "source": [
        "from sklearn import svm"
      ],
      "execution_count": 0,
      "outputs": []
    },
    {
      "cell_type": "code",
      "metadata": {
        "id": "FDUXPGiULmTH",
        "colab_type": "code",
        "outputId": "e5a129c9-60ca-4ec5-bc53-bbf4193d9a03",
        "colab": {
          "base_uri": "https://localhost:8080/",
          "height": 34
        }
      },
      "source": [
        "test_data['mol'] = test_data['SMILES sequence'].apply(lambda x: Chem.MolFromSmiles(x))\n",
        "print(type(test_data['mol'][0]))"
      ],
      "execution_count": 18,
      "outputs": [
        {
          "output_type": "stream",
          "text": [
            "<class 'rdkit.Chem.rdchem.Mol'>\n"
          ],
          "name": "stdout"
        }
      ]
    },
    {
      "cell_type": "code",
      "metadata": {
        "id": "JjNqcOxILZPP",
        "colab_type": "code",
        "colab": {}
      },
      "source": [
        "test_data['sentence'] = test_data.apply(lambda x: MolSentence(mol2alt_sentence(x['mol'], 1)), axis=1)"
      ],
      "execution_count": 0,
      "outputs": []
    },
    {
      "cell_type": "code",
      "metadata": {
        "id": "D29cHTzPL1A7",
        "colab_type": "code",
        "colab": {}
      },
      "source": [
        "test_data['mol2vec'] = [DfVec(x) for x in sentences2vec(test_data['sentence'], model, unseen='UNK')]\n",
        "test = np.array([x.vec for x in test_data['mol2vec']])"
      ],
      "execution_count": 0,
      "outputs": []
    },
    {
      "cell_type": "code",
      "metadata": {
        "id": "_MfLbKxFjKcx",
        "colab_type": "code",
        "outputId": "8e802fa6-0017-432c-ff22-f8d5577f1580",
        "colab": {
          "base_uri": "https://localhost:8080/",
          "height": 50
        }
      },
      "source": [
        "clf = svm.SVR(C=55.0,epsilon=2)\n",
        "clf.fit(X,y)\n"
      ],
      "execution_count": 21,
      "outputs": [
        {
          "output_type": "execute_result",
          "data": {
            "text/plain": [
              "SVR(C=55.0, cache_size=200, coef0=0.0, degree=3, epsilon=2, gamma='scale',\n",
              "    kernel='rbf', max_iter=-1, shrinking=True, tol=0.001, verbose=False)"
            ]
          },
          "metadata": {
            "tags": []
          },
          "execution_count": 21
        }
      ]
    },
    {
      "cell_type": "code",
      "metadata": {
        "id": "RVr1ezvhPiO3",
        "colab_type": "code",
        "colab": {}
      },
      "source": [
        "y_pred = clf.predict(test)"
      ],
      "execution_count": 0,
      "outputs": []
    },
    {
      "cell_type": "code",
      "metadata": {
        "id": "r4gC1lghUkQx",
        "colab_type": "code",
        "outputId": "b5353e26-151e-4ae7-f67a-332c4fe01a9f",
        "colab": {
          "base_uri": "https://localhost:8080/",
          "height": 84
        }
      },
      "source": [
        "col=np.array(test_data['SMILES sequence'])\n",
        "print(col)\n",
        "print(y_pred)\n"
      ],
      "execution_count": 23,
      "outputs": [
        {
          "output_type": "stream",
          "text": [
            "['Cc1ccc(C2CNCCN2C)cc1' 'CCOC(CO)c1ccccc1' 'CC(=O)Nc1cnn(C)n1' ...\n",
            " 'NC1=NC(=O)C(=CC(=O)O)S1' 'C=C(CC)CC(C)C(O)c1ccccc1' 'N#CCC(CN)c1cncnc1']\n",
            "[-21.28885103 -14.35681914 -23.25483643 ... -23.00149889 -15.90468471\n",
            " -21.65056617]\n"
          ],
          "name": "stdout"
        }
      ]
    },
    {
      "cell_type": "code",
      "metadata": {
        "id": "nD6AqOFDWQLw",
        "colab_type": "code",
        "colab": {
          "base_uri": "https://localhost:8080/",
          "height": 50
        },
        "outputId": "5d017bcf-79d7-4097-98d7-68531c96d529"
      },
      "source": [
        "y_pred"
      ],
      "execution_count": 26,
      "outputs": [
        {
          "output_type": "execute_result",
          "data": {
            "text/plain": [
              "array([-21.28885103, -14.35681914, -23.25483643, ..., -23.00149889,\n",
              "       -15.90468471, -21.65056617])"
            ]
          },
          "metadata": {
            "tags": []
          },
          "execution_count": 26
        }
      ]
    }
  ]
}