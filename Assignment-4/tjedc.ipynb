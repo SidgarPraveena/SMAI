{
  "nbformat": 4,
  "nbformat_minor": 0,
  "metadata": {
    "kernelspec": {
      "display_name": "Python 3",
      "language": "python",
      "name": "python3"
    },
    "language_info": {
      "codemirror_mode": {
        "name": "ipython",
        "version": 3
      },
      "file_extension": ".py",
      "mimetype": "text/x-python",
      "name": "python",
      "nbconvert_exporter": "python",
      "pygments_lexer": "ipython3",
      "version": "3.7.4"
    },
    "colab": {
      "name": "q2_1.ipynb",
      "provenance": [],
      "collapsed_sections": []
    },
    "accelerator": "GPU"
  },
  "cells": [
    {
      "cell_type": "markdown",
      "metadata": {
        "id": "iHMJe2npFuVO",
        "colab_type": "text"
      },
      "source": [
        "running file: we have to give 4 parameters in the command line <br>\n",
        "1) path to train.csv <br>\n",
        "2) path to train images <br>\n",
        "3) path to test.csv <br>\n",
        "4) path to test images <br>\n",
        "python 2019201042_tjedc.py train.csv ./images_train/ntrain ./final_test/test.csv ./final_test/test"
      ]
    },
    {
      "cell_type": "code",
      "metadata": {
        "id": "FFbaRuIT-ZWT",
        "colab_type": "code",
        "outputId": "b9b5191e-0846-44d3-bb30-3b6066598f13",
        "colab": {
          "base_uri": "https://localhost:8080/",
          "height": 34
        }
      },
      "source": [
        "from google.colab import drive\n",
        "drive.mount('/content/drive/')"
      ],
      "execution_count": 1,
      "outputs": [
        {
          "output_type": "stream",
          "text": [
            "Drive already mounted at /content/drive/; to attempt to forcibly remount, call drive.mount(\"/content/drive/\", force_remount=True).\n"
          ],
          "name": "stdout"
        }
      ]
    },
    {
      "cell_type": "code",
      "metadata": {
        "id": "3FuUu0i3TIqC",
        "colab_type": "code",
        "outputId": "628beccd-d3a8-4d47-f510-aa7a2db85ed0",
        "colab": {
          "base_uri": "https://localhost:8080/",
          "height": 1000
        }
      },
      "source": [
        "import os\n",
        "import cv2\n",
        "import numpy as np\n",
        "import pandas as pd\n",
        "from keras import layers\n",
        "from keras import models\n",
        "from keras.utils import to_categorical\n",
        "from sklearn.preprocessing import MinMaxScaler\n",
        "\n",
        "\n",
        "def load_images(path, img_files):\n",
        "    images=[]\n",
        "    for filename in img_files:\n",
        "        img = cv2.imread(path+\"/\"+filename+\".jpg\",0)\n",
        "        images.append(img)\n",
        "    return np.array(images)\n",
        "\n",
        "def load_test_images(path, img_files):\n",
        "    images=[]\n",
        "    dim=(640,360)\n",
        "    for filename in img_files:\n",
        "        img = cv2.imread(path+\"/\"+filename+\".jpg\",0)\n",
        "        img=cv2.resize(img,dim)\n",
        "        images.append(img)\n",
        "    return np.array(images)\n",
        "\n",
        "\n",
        "df = pd.read_csv('/content/drive/My Drive/smai_assign4/q2/train.csv')\n",
        "img_files = df.image_file.values\n",
        "image_data=load_images(\"/content/drive/My Drive/smai_assign4/q2/images_train/ntrain\", img_files)\n",
        "image_data = image_data.reshape(1941,360*640)\n",
        "\n",
        "\n",
        "\n",
        "scaler = MinMaxScaler()\n",
        "image_data = scaler.fit_transform(image_data)\n",
        "label = df.emotion.values\n",
        "\n",
        "model = models.Sequential()\n",
        "model.add(layers.Conv2D(32, (5, 5), activation='relu', input_shape=(360, 640, 1)))\n",
        "model.add(layers.MaxPooling2D((2, 2)))\n",
        "\n",
        "model.add(layers.Conv2D(64, (5, 5), activation='relu'))\n",
        "model.add(layers.MaxPooling2D((2, 2)))\n",
        "\n",
        "model.add(layers.Flatten())\n",
        "model.add(layers.Dense(5, activation='softmax'))\n",
        "model.summary()\n",
        "\n",
        "\n",
        "\n",
        "batch_size = 3\n",
        "epochs = 50\n",
        "\n",
        "t_images=image_data.reshape((1941, 360, 640, 1))\n",
        "l=to_categorical(label,5)\n",
        "model.compile(loss='categorical_crossentropy',\n",
        "              optimizer='sgd',\n",
        "              metrics=['accuracy'])\n",
        "\n",
        "model.fit(t_images, l,\n",
        "          batch_size=batch_size,\n",
        "          epochs=epochs,\n",
        "          verbose=1\n",
        "          )\n",
        "\n",
        "\n",
        "df_test = pd.read_csv('/content/drive/My Drive/smai_assign4/q2/test.csv')\n",
        "test_img_files = df_test.image_file.values\n",
        "\n",
        "\n",
        "test_image_data=load_test_images(\"/content/drive/My Drive/smai_assign4/q2/images_test/ntest\", test_img_files)\n",
        "test_image_data = test_image_data.reshape(275,360*640)\n",
        "test_image_data = scaler.transform(test_image_data) \n",
        "test_image_data = test_image_data.reshape(275,360,640,1)\n",
        "model.predict_classes(test_image_data)\n"
      ],
      "execution_count": 2,
      "outputs": [
        {
          "output_type": "stream",
          "text": [
            "Using TensorFlow backend.\n"
          ],
          "name": "stderr"
        },
        {
          "output_type": "stream",
          "text": [
            "Model: \"sequential_1\"\n",
            "_________________________________________________________________\n",
            "Layer (type)                 Output Shape              Param #   \n",
            "=================================================================\n",
            "conv2d_1 (Conv2D)            (None, 356, 636, 32)      832       \n",
            "_________________________________________________________________\n",
            "max_pooling2d_1 (MaxPooling2 (None, 178, 318, 32)      0         \n",
            "_________________________________________________________________\n",
            "conv2d_2 (Conv2D)            (None, 174, 314, 64)      51264     \n",
            "_________________________________________________________________\n",
            "max_pooling2d_2 (MaxPooling2 (None, 87, 157, 64)       0         \n",
            "_________________________________________________________________\n",
            "flatten_1 (Flatten)          (None, 874176)            0         \n",
            "_________________________________________________________________\n",
            "dense_1 (Dense)              (None, 5)                 4370885   \n",
            "=================================================================\n",
            "Total params: 4,422,981\n",
            "Trainable params: 4,422,981\n",
            "Non-trainable params: 0\n",
            "_________________________________________________________________\n",
            "Epoch 1/50\n",
            "1941/1941 [==============================] - 23s 12ms/step - loss: 1.5750 - accuracy: 0.3122\n",
            "Epoch 2/50\n",
            "1941/1941 [==============================] - 22s 11ms/step - loss: 1.4766 - accuracy: 0.4013\n",
            "Epoch 3/50\n",
            "1941/1941 [==============================] - 22s 11ms/step - loss: 1.1012 - accuracy: 0.6301\n",
            "Epoch 4/50\n",
            "1941/1941 [==============================] - 22s 11ms/step - loss: 0.5128 - accuracy: 0.8460\n",
            "Epoch 5/50\n",
            "1941/1941 [==============================] - 22s 11ms/step - loss: 0.2527 - accuracy: 0.9459\n",
            "Epoch 6/50\n",
            "1941/1941 [==============================] - 22s 11ms/step - loss: 0.1568 - accuracy: 0.9634\n",
            "Epoch 7/50\n",
            "1941/1941 [==============================] - 22s 11ms/step - loss: 0.0872 - accuracy: 0.9789\n",
            "Epoch 8/50\n",
            "1941/1941 [==============================] - 22s 11ms/step - loss: 0.0535 - accuracy: 0.9856\n",
            "Epoch 9/50\n",
            "1941/1941 [==============================] - 22s 11ms/step - loss: 0.0511 - accuracy: 0.9876\n",
            "Epoch 10/50\n",
            "1941/1941 [==============================] - 22s 11ms/step - loss: 0.0435 - accuracy: 0.9907\n",
            "Epoch 11/50\n",
            "1941/1941 [==============================] - 22s 11ms/step - loss: 0.0211 - accuracy: 0.9969\n",
            "Epoch 12/50\n",
            "1941/1941 [==============================] - 22s 11ms/step - loss: 0.0103 - accuracy: 0.9979\n",
            "Epoch 13/50\n",
            "1941/1941 [==============================] - 22s 11ms/step - loss: 0.0154 - accuracy: 0.9979\n",
            "Epoch 14/50\n",
            "1941/1941 [==============================] - 22s 11ms/step - loss: 0.0096 - accuracy: 0.9990\n",
            "Epoch 15/50\n",
            "1941/1941 [==============================] - 22s 11ms/step - loss: 0.0016 - accuracy: 0.9995\n",
            "Epoch 16/50\n",
            "1941/1941 [==============================] - 22s 11ms/step - loss: 7.2245e-04 - accuracy: 1.0000\n",
            "Epoch 17/50\n",
            "1941/1941 [==============================] - 22s 11ms/step - loss: 6.3907e-04 - accuracy: 1.0000\n",
            "Epoch 18/50\n",
            "1941/1941 [==============================] - 22s 11ms/step - loss: 4.9076e-04 - accuracy: 1.0000\n",
            "Epoch 19/50\n",
            "1941/1941 [==============================] - 22s 11ms/step - loss: 4.3547e-04 - accuracy: 1.0000\n",
            "Epoch 20/50\n",
            "1941/1941 [==============================] - 22s 11ms/step - loss: 3.7160e-04 - accuracy: 1.0000\n",
            "Epoch 21/50\n",
            "1941/1941 [==============================] - 22s 11ms/step - loss: 3.2326e-04 - accuracy: 1.0000\n",
            "Epoch 22/50\n",
            "1941/1941 [==============================] - 22s 11ms/step - loss: 3.0324e-04 - accuracy: 1.0000\n",
            "Epoch 23/50\n",
            "1941/1941 [==============================] - 22s 11ms/step - loss: 2.7264e-04 - accuracy: 1.0000\n",
            "Epoch 24/50\n",
            "1941/1941 [==============================] - 22s 11ms/step - loss: 2.4704e-04 - accuracy: 1.0000\n",
            "Epoch 25/50\n",
            "1941/1941 [==============================] - 22s 11ms/step - loss: 2.2752e-04 - accuracy: 1.0000\n",
            "Epoch 26/50\n",
            "1941/1941 [==============================] - 22s 11ms/step - loss: 2.0789e-04 - accuracy: 1.0000\n",
            "Epoch 27/50\n",
            "1941/1941 [==============================] - 22s 11ms/step - loss: 1.9460e-04 - accuracy: 1.0000\n",
            "Epoch 28/50\n",
            "1941/1941 [==============================] - 22s 11ms/step - loss: 1.8307e-04 - accuracy: 1.0000\n",
            "Epoch 29/50\n",
            "1941/1941 [==============================] - 22s 11ms/step - loss: 1.6479e-04 - accuracy: 1.0000\n",
            "Epoch 30/50\n",
            "1941/1941 [==============================] - 22s 11ms/step - loss: 1.6234e-04 - accuracy: 1.0000\n",
            "Epoch 31/50\n",
            "1941/1941 [==============================] - 22s 11ms/step - loss: 1.5109e-04 - accuracy: 1.0000\n",
            "Epoch 32/50\n",
            "1941/1941 [==============================] - 22s 11ms/step - loss: 1.4365e-04 - accuracy: 1.0000\n",
            "Epoch 33/50\n",
            "1941/1941 [==============================] - 22s 11ms/step - loss: 1.3954e-04 - accuracy: 1.0000\n",
            "Epoch 34/50\n",
            "1941/1941 [==============================] - 22s 11ms/step - loss: 1.3134e-04 - accuracy: 1.0000\n",
            "Epoch 35/50\n",
            "1941/1941 [==============================] - 22s 11ms/step - loss: 1.2593e-04 - accuracy: 1.0000\n",
            "Epoch 36/50\n",
            "1941/1941 [==============================] - 22s 11ms/step - loss: 1.2150e-04 - accuracy: 1.0000\n",
            "Epoch 37/50\n",
            "1941/1941 [==============================] - 22s 11ms/step - loss: 1.1525e-04 - accuracy: 1.0000\n",
            "Epoch 38/50\n",
            "1941/1941 [==============================] - 22s 11ms/step - loss: 1.1009e-04 - accuracy: 1.0000\n",
            "Epoch 39/50\n",
            "1941/1941 [==============================] - 22s 11ms/step - loss: 1.0570e-04 - accuracy: 1.0000\n",
            "Epoch 40/50\n",
            "1941/1941 [==============================] - 22s 11ms/step - loss: 1.0243e-04 - accuracy: 1.0000\n",
            "Epoch 41/50\n",
            "1941/1941 [==============================] - 22s 11ms/step - loss: 9.7608e-05 - accuracy: 1.0000\n",
            "Epoch 42/50\n",
            "1941/1941 [==============================] - 22s 11ms/step - loss: 9.6616e-05 - accuracy: 1.0000\n",
            "Epoch 43/50\n",
            "1941/1941 [==============================] - 22s 11ms/step - loss: 9.2514e-05 - accuracy: 1.0000\n",
            "Epoch 44/50\n",
            "1941/1941 [==============================] - 22s 11ms/step - loss: 9.0676e-05 - accuracy: 1.0000\n",
            "Epoch 45/50\n",
            "1941/1941 [==============================] - 22s 11ms/step - loss: 8.5931e-05 - accuracy: 1.0000\n",
            "Epoch 46/50\n",
            "1941/1941 [==============================] - 22s 11ms/step - loss: 8.4910e-05 - accuracy: 1.0000\n",
            "Epoch 47/50\n",
            "1941/1941 [==============================] - 22s 11ms/step - loss: 8.1576e-05 - accuracy: 1.0000\n",
            "Epoch 48/50\n",
            "1941/1941 [==============================] - 22s 11ms/step - loss: 7.9032e-05 - accuracy: 1.0000\n",
            "Epoch 49/50\n",
            "1941/1941 [==============================] - 22s 11ms/step - loss: 7.7610e-05 - accuracy: 1.0000\n",
            "Epoch 50/50\n",
            "1941/1941 [==============================] - 22s 11ms/step - loss: 7.5536e-05 - accuracy: 1.0000\n"
          ],
          "name": "stdout"
        },
        {
          "output_type": "execute_result",
          "data": {
            "text/plain": [
              "array([1, 3, 1, 1, 1, 2, 2, 2, 1, 1, 0, 0, 1, 1, 3, 1, 1, 1, 1, 3, 1, 0,\n",
              "       0, 3, 4, 1, 2, 1, 3, 1, 1, 3, 3, 3, 4, 3, 1, 2, 4, 3, 3, 2, 2, 2,\n",
              "       2, 0, 0, 0, 2, 2, 4, 3, 3, 3, 0, 0, 0, 1, 3, 3, 3, 3, 3, 3, 1, 3,\n",
              "       3, 1, 1, 1, 4, 4, 4, 1, 1, 3, 3, 0, 1, 0, 0, 4, 1, 0, 0, 2, 0, 0,\n",
              "       0, 0, 2, 3, 0, 0, 0, 1, 0, 0, 1, 1, 1, 3, 3, 3, 3, 3, 4, 4, 4, 4,\n",
              "       4, 4, 4, 4, 4, 4, 4, 4, 4, 4, 4, 4, 4, 4, 4, 4, 4, 4, 4, 4, 4, 4,\n",
              "       4, 4, 4, 1, 1, 1, 1, 3, 3, 3, 2, 0, 0, 0, 0, 1, 0, 1, 1, 1, 1, 1,\n",
              "       2, 3, 2, 4, 0, 1, 4, 0, 0, 0, 1, 1, 1, 4, 4, 3, 3, 1, 1, 1, 1, 3,\n",
              "       4, 4, 4, 4, 3, 3, 3, 4, 4, 3, 0, 0, 0, 3, 4, 4, 3, 3, 3, 1, 3, 4,\n",
              "       4, 3, 3, 3, 3, 0, 3, 0, 0, 0, 4, 3, 3, 4, 4, 3, 3, 4, 4, 0, 0, 3,\n",
              "       4, 4, 4, 2, 4, 2, 2, 2, 3, 4, 4, 3, 2, 4, 4, 4, 4, 4, 0, 4, 4, 1,\n",
              "       1, 2, 0, 4, 3, 0, 4, 0, 0, 0, 0, 1, 1, 1, 1, 4, 1, 1, 3, 3, 1, 1,\n",
              "       1, 4, 2, 2, 4, 1, 1, 1, 2, 2, 2])"
            ]
          },
          "metadata": {
            "tags": []
          },
          "execution_count": 2
        }
      ]
    },
    {
      "cell_type": "code",
      "metadata": {
        "id": "l5-s3nPhTIsu",
        "colab_type": "code",
        "colab": {}
      },
      "source": [
        ""
      ],
      "execution_count": 0,
      "outputs": []
    }
  ]
}